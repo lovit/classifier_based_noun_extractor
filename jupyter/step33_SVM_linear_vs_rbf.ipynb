{
 "cells": [
  {
   "cell_type": "markdown",
   "metadata": {},
   "source": [
    "Linear kernel과 RBF kernel은 왜 서로 다른 비율로 support vector를 선택하게 되는가? (왜 linear kernel만 sparse support vector를 지니는가?) \n",
    "\n",
    "좀 더 자세하게 linear kernel과 rbf kernel을 썼을 때 각각 어떤 classification boundary를 따는 걸까? \n",
    "\n",
    "l30_r15 데이터로만 한 번 살펴보자"
   ]
  },
  {
   "cell_type": "code",
   "execution_count": 1,
   "metadata": {
    "collapsed": false
   },
   "outputs": [
    {
     "name": "stdout",
     "output_type": "stream",
     "text": [
      "x shape = (15105, 2770)\n",
      "y shape = (15105,)\n",
      "# features = 2770\n",
      "# L words = 15105\n"
     ]
    }
   ],
   "source": [
    "from sklearn.svm import SVC\n",
    "from sklearn.preprocessing import normalize\n",
    "from py.utils import load_data\n",
    "import pickle\n",
    "\n",
    "import warnings\n",
    "warnings.filterwarnings('ignore')\n",
    "\n",
    "directory = '../data/'\n",
    "head = 'l30_r15'\n",
    "\n",
    "x, y, x_words, vocabs = load_data(head, directory)\n",
    "x = normalize(x)"
   ]
  },
  {
   "cell_type": "code",
   "execution_count": 2,
   "metadata": {
    "collapsed": false
   },
   "outputs": [
    {
     "name": "stdout",
     "output_type": "stream",
     "text": [
      "% support vector 0.027\n"
     ]
    }
   ],
   "source": [
    "svm_linear = SVC(C=1.0, kernel='linear')\n",
    "svm_linear.fit(x, y)\n",
    "print('%s support vector %.3f' % ('%', svm_linear.n_support_.sum()/x.shape[0]))"
   ]
  },
  {
   "cell_type": "code",
   "execution_count": 3,
   "metadata": {
    "collapsed": false
   },
   "outputs": [
    {
     "name": "stdout",
     "output_type": "stream",
     "text": [
      "% support vector 0.332\n"
     ]
    }
   ],
   "source": [
    "svm_rbf = SVC(C=1.0, kernel='rbf')\n",
    "svm_rbf.fit(x, y)\n",
    "print('%s support vector %.3f' % ('%', svm_rbf.n_support_.sum()/x.shape[0]))"
   ]
  },
  {
   "cell_type": "markdown",
   "metadata": {},
   "source": [
    "## Linear kernel을 알아보자"
   ]
  },
  {
   "cell_type": "code",
   "execution_count": 4,
   "metadata": {
    "collapsed": false
   },
   "outputs": [],
   "source": [
    "neg = svm_linear.support_[:svm_linear.n_support_[0]].tolist()\n",
    "pos = svm_linear.support_[svm_linear.n_support_[0]:].tolist()\n",
    "\n",
    "neg_words = [x_words[i] for i in neg]\n",
    "pos_words = [x_words[i] for i in pos]"
   ]
  },
  {
   "cell_type": "code",
   "execution_count": 5,
   "metadata": {
    "collapsed": false
   },
   "outputs": [
    {
     "data": {
      "text/plain": [
       "['나머지',\n",
       " '영배',\n",
       " '결국',\n",
       " '생동',\n",
       " '어림',\n",
       " '성익',\n",
       " '새롬이',\n",
       " '것쯤',\n",
       " '미동',\n",
       " '거기',\n",
       " '걔네',\n",
       " '번쯤',\n",
       " '불문',\n",
       " '이것',\n",
       " '경화',\n",
       " '저',\n",
       " '국내적',\n",
       " '얘긴',\n",
       " '재직',\n",
       " '뚱쇠',\n",
       " '얘들',\n",
       " '태성',\n",
       " '일반이론',\n",
       " '창권',\n",
       " '눈곱',\n",
       " '뒷짐',\n",
       " '재영이',\n",
       " '총력',\n",
       " '여기저기',\n",
       " '훈',\n",
       " '마중',\n",
       " '멱살',\n",
       " '참상',\n",
       " '넷째',\n",
       " '위용',\n",
       " '예사',\n",
       " '윤재홍',\n",
       " '다비',\n",
       " '저명',\n",
       " '한창',\n",
       " '상무님',\n",
       " '발버둥',\n",
       " '장하일',\n",
       " '예리',\n",
       " '장군이',\n",
       " '형언',\n",
       " '법석',\n",
       " '위배',\n",
       " '기겁',\n",
       " '개중',\n",
       " '한은',\n",
       " '웬일',\n",
       " '드러커',\n",
       " '똘배',\n",
       " '둘째',\n",
       " '단조',\n",
       " '혼자',\n",
       " '동욱',\n",
       " '요새',\n",
       " '세진',\n",
       " '미경',\n",
       " '안중',\n",
       " '성태',\n",
       " '언제',\n",
       " '팔짱',\n",
       " '한때',\n",
       " '원산지',\n",
       " '가르시아',\n",
       " '장군님',\n",
       " '안수',\n",
       " '시기적',\n",
       " '발원',\n",
       " '제록스',\n",
       " '반쯤',\n",
       " '관섭',\n",
       " '때쯤',\n",
       " '진아',\n",
       " '구속기소',\n",
       " '권익',\n",
       " '저거',\n",
       " '뿐',\n",
       " '아랑곳',\n",
       " '즉석',\n",
       " '후보쪽',\n",
       " '자초지종',\n",
       " '혹자',\n",
       " '첫째',\n",
       " '개의',\n",
       " '품이',\n",
       " '퉁명',\n",
       " '이거',\n",
       " '막돌초석',\n",
       " '업종별',\n",
       " '소식통',\n",
       " '허허씨',\n",
       " '좆',\n",
       " '소식통들',\n",
       " '물론',\n",
       " '나',\n",
       " '지윤',\n",
       " '경찰청',\n",
       " '갑동이',\n",
       " '당국자',\n",
       " '언론들',\n",
       " '둘이',\n",
       " '상현',\n",
       " '무어',\n",
       " '셋째',\n",
       " '순덕',\n",
       " '윤수',\n",
       " '허울',\n",
       " '인제',\n",
       " '재판부',\n",
       " '그니',\n",
       " '가운데',\n",
       " '테',\n",
       " '다섯째',\n",
       " '통용',\n",
       " '경혜',\n",
       " '복지부',\n",
       " '거리낌',\n",
       " '기상청',\n",
       " '십',\n",
       " '한번',\n",
       " '일쑤',\n",
       " '두혁',\n",
       " '동준',\n",
       " '정말',\n",
       " '도리질',\n",
       " '외무장관',\n",
       " '상덕',\n",
       " '반색',\n",
       " '여경',\n",
       " '강아지똥',\n",
       " '한동안',\n",
       " '명이',\n",
       " '명심',\n",
       " '주눅',\n",
       " '각광',\n",
       " '신철이',\n",
       " '예기',\n",
       " '극명',\n",
       " '관계자',\n",
       " '훈아',\n",
       " '자진',\n",
       " '곤욕',\n",
       " '전년도',\n",
       " '두리기둥',\n",
       " '경험들',\n",
       " '삼월이',\n",
       " '입버릇',\n",
       " '형우',\n",
       " '골탕',\n",
       " '병수씨',\n",
       " '이제',\n",
       " '거',\n",
       " '환산',\n",
       " '대변인',\n",
       " '기승',\n",
       " '별것',\n",
       " '누명',\n",
       " '대북',\n",
       " '관건',\n",
       " '건설교통부',\n",
       " '연이',\n",
       " '동양적',\n",
       " '윤건',\n",
       " '민주노총',\n",
       " '둔감',\n",
       " '첫발',\n",
       " '매료',\n",
       " '아무것',\n",
       " '순진이',\n",
       " '텐',\n",
       " '여태',\n",
       " '친애',\n",
       " '순조',\n",
       " '진구',\n",
       " '참',\n",
       " '조금씩',\n",
       " '가중',\n",
       " '상통',\n",
       " '소린',\n",
       " '중점적',\n",
       " '집집',\n",
       " '옛',\n",
       " '번씩',\n",
       " '선행',\n",
       " '화숙이',\n",
       " '여기',\n",
       " '박세리',\n",
       " '채란',\n",
       " '아무',\n",
       " '건',\n",
       " '가차']"
      ]
     },
     "execution_count": 5,
     "metadata": {},
     "output_type": "execute_result"
    }
   ],
   "source": [
    "pos_words"
   ]
  },
  {
   "cell_type": "code",
   "execution_count": null,
   "metadata": {
    "collapsed": true
   },
   "outputs": [],
   "source": []
  }
 ],
 "metadata": {
  "kernelspec": {
   "display_name": "Python 3",
   "language": "python",
   "name": "python3"
  },
  "language_info": {
   "codemirror_mode": {
    "name": "ipython",
    "version": 3
   },
   "file_extension": ".py",
   "mimetype": "text/x-python",
   "name": "python",
   "nbconvert_exporter": "python",
   "pygments_lexer": "ipython3",
   "version": "3.5.2"
  }
 },
 "nbformat": 4,
 "nbformat_minor": 0
}
