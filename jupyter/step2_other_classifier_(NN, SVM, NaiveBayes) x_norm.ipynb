{
 "cells": [
  {
   "cell_type": "code",
   "execution_count": 1,
   "metadata": {
    "collapsed": true
   },
   "outputs": [],
   "source": [
    "from sklearn.svm import SVC\n",
    "from sklearn.neural_network import MLPClassifier\n",
    "from sklearn.naive_bayes import BernoulliNB\n",
    "from sklearn.model_selection import cross_val_score\n",
    "from sklearn.preprocessing import normalize\n",
    "from py.utils import load_data\n",
    "import pickle\n",
    "\n",
    "directory = '../data/'\n",
    "heads = ['l30_r15', 'l10_r10', 'l5_r5']\n",
    "n_cv = 5"
   ]
  },
  {
   "cell_type": "code",
   "execution_count": 2,
   "metadata": {
    "collapsed": false
   },
   "outputs": [
    {
     "name": "stdout",
     "output_type": "stream",
     "text": [
      "\n",
      "\n",
      "head = l30_r15\n",
      "x shape = (15715, 4551)\n",
      "y shape = (15715,)\n",
      "# features = 4551\n",
      "# L words = 15715\n",
      "\n",
      "Bernoulli Naive Bayes:  > ['0.99555', '0.99395', '0.99395', '0.99427', '0.99459']\n"
     ]
    },
    {
     "name": "stderr",
     "output_type": "stream",
     "text": [
      "/home/lovit/anaconda2/envs/jupyter_server_py3/lib/python3.5/site-packages/sklearn/utils/validation.py:429: DataConversionWarning: Data with input dtype int64 was converted to float64 by the normalize function.\n",
      "  warnings.warn(msg, _DataConversionWarning)\n"
     ]
    },
    {
     "name": "stdout",
     "output_type": "stream",
     "text": [
      "Multilayer Perceptron Classifier (h=[5]):  > ['0.99714', '0.99555', '0.99841', '0.99555', '0.99650']\n",
      "Multilayer Perceptron Classifier (h=[20]) > ['0.99682', '0.99523', '0.99809', '0.99523', '0.99682']\n",
      "Multilayer Perceptron Classifier (h=[50, 10]):  > ['0.99714', '0.99523', '0.99714', '0.99618', '0.99618']\n",
      "Support Vector Machine (rbf, C=10.0):  > ['0.97392', '0.96882', '0.97550', '0.97550', '0.96913']\n",
      "Support Vector Machine (rbf, C=1.0):  > ['0.79994', '0.80019', '0.80019', '0.80019', '0.80013']\n",
      "Support Vector Machine (rbf, C=0.1):  > ['0.79994', '0.80019', '0.80019', '0.80019', '0.80013']\n",
      "--------------------------------------------------------------------------------\n",
      "\n",
      "\n",
      "head = l10_r10\n",
      "x shape = (31664, 5857)\n",
      "y shape = (31664,)\n",
      "# features = 5857\n",
      "# L words = 31664\n",
      "\n",
      "Bernoulli Naive Bayes:  > ['0.98895', '0.98689', '0.98658', '0.98737', '0.98626']\n"
     ]
    },
    {
     "name": "stderr",
     "output_type": "stream",
     "text": [
      "/home/lovit/anaconda2/envs/jupyter_server_py3/lib/python3.5/site-packages/sklearn/utils/validation.py:429: DataConversionWarning: Data with input dtype int64 was converted to float64 by the normalize function.\n",
      "  warnings.warn(msg, _DataConversionWarning)\n"
     ]
    },
    {
     "name": "stdout",
     "output_type": "stream",
     "text": [
      "Multilayer Perceptron Classifier (h=[5]):  > ['0.99668', '0.99526', '0.99463', '0.99479', '0.99352']\n",
      "Multilayer Perceptron Classifier (h=[20]) > ['0.99542', '0.99542', '0.99479', '0.99495', '0.99416']\n",
      "Multilayer Perceptron Classifier (h=[50, 10]):  > ['0.99605', '0.99463', '0.99400', '0.99479', '0.99337']\n",
      "Support Vector Machine (rbf, C=10.0):  > ['0.96463', '0.96779', '0.96921', '0.96905', '0.96431']\n",
      "Support Vector Machine (rbf, C=1.0):  > ['0.83815', '0.83815', '0.83815', '0.83815', '0.83812']\n",
      "Support Vector Machine (rbf, C=0.1):  > ['0.83815', '0.83815', '0.83815', '0.83815', '0.83812']\n",
      "--------------------------------------------------------------------------------\n",
      "\n",
      "\n",
      "head = l5_r5\n",
      "x shape = (49547, 9307)\n",
      "y shape = (49547,)\n",
      "# features = 9307\n",
      "# L words = 49547\n",
      "\n",
      "Bernoulli Naive Bayes:  > ['0.97669', '0.97568', '0.97881', '0.97517', '0.97568']\n"
     ]
    },
    {
     "name": "stderr",
     "output_type": "stream",
     "text": [
      "/home/lovit/anaconda2/envs/jupyter_server_py3/lib/python3.5/site-packages/sklearn/utils/validation.py:429: DataConversionWarning: Data with input dtype int64 was converted to float64 by the normalize function.\n",
      "  warnings.warn(msg, _DataConversionWarning)\n"
     ]
    },
    {
     "name": "stdout",
     "output_type": "stream",
     "text": [
      "Multilayer Perceptron Classifier (h=[5]):  > ['0.99415', '0.99253', '0.99384', '0.99445', '0.99273']\n",
      "Multilayer Perceptron Classifier (h=[20]) > ['0.99455', '0.99294', '0.99334', '0.99384', '0.99253']\n",
      "Multilayer Perceptron Classifier (h=[50, 10]):  > ['0.99374', '0.99233', '0.99294', '0.99354', '0.99183']\n",
      "Support Vector Machine (rbf, C=10.0):  > ['0.95691', '0.95096', '0.95600', '0.95247', '0.95307']\n",
      "Support Vector Machine (rbf, C=1.0):  > ['0.86186', '0.86186', '0.86194', '0.86194', '0.86194']\n",
      "Support Vector Machine (rbf, C=0.1):  > ['0.86186', '0.86186', '0.86194', '0.86194', '0.86194']\n",
      "--------------------------------------------------------------------------------\n"
     ]
    }
   ],
   "source": [
    "import pickle\n",
    "performances = {}\n",
    "\n",
    "for head in heads:\n",
    "    print('\\n\\nhead = %s' % head)\n",
    "    x, y, x_words, vocabs = load_data(head, directory)\n",
    "    x = normalize(x)\n",
    "    \n",
    "    classifier = BernoulliNB()\n",
    "    scores = cross_val_score(classifier, x, y, cv=n_cv)\n",
    "    print('\\nBernoulli Naive Bayes: ', end='')\n",
    "    print(' > %s' % ['%.5f' % s for s in scores])\n",
    "    performances[('BernoulliNB norm', head)] = scores\n",
    "    with open('performance_other_classifier norm.pkl', 'wb') as f:\n",
    "        pickle.dump(performances, f)\n",
    "    classifier.fit(x, y)\n",
    "    model_name = 'BernoulliNB norm' + head\n",
    "    with open('../models/%s.pkl' % model_name, 'wb') as f:\n",
    "        pickle.dump(classifier, f)   \n",
    "        \n",
    "    \n",
    "    classifier = MLPClassifier(hidden_layer_sizes=(5,))\n",
    "    scores = cross_val_score(classifier, x, y, cv=n_cv)\n",
    "    print('Multilayer Perceptron Classifier (h=[5]): ', end='')\n",
    "    print(' > %s' % ['%.5f' % s for s in scores])\n",
    "    performances[('MLPClassifier (5,) norm', head)] = scores\n",
    "    with open('performance_other_classifier norm.pkl', 'wb') as f:\n",
    "        pickle.dump(performances, f)\n",
    "    classifier.fit(x, y)\n",
    "    model_name = 'MLPClassifier (5,) norm' + head\n",
    "    with open('../models/%s.pkl' % model_name, 'wb') as f:\n",
    "        pickle.dump(classifier, f)   \n",
    "\n",
    "    \n",
    "    classifier = MLPClassifier(hidden_layer_sizes=(20,))\n",
    "    scores = cross_val_score(classifier, x, y, cv=n_cv)\n",
    "    print('Multilayer Perceptron Classifier (h=[20])', end='')\n",
    "    print(' > %s' % ['%.5f' % s for s in scores])\n",
    "    performances[('MLPClassifier (20,) norm', head)] = scores\n",
    "    with open('performance_other_classifier norm.pkl', 'wb') as f:\n",
    "        pickle.dump(performances, f)\n",
    "    classifier.fit(x, y)\n",
    "    model_name = 'MLPClassifier (20,) norm' + head\n",
    "    with open('../models/%s.pkl' % model_name, 'wb') as f:\n",
    "        pickle.dump(classifier, f)   \n",
    "\n",
    "    \n",
    "    classifier = MLPClassifier(hidden_layer_sizes=(50,10))\n",
    "    scores = cross_val_score(classifier, x, y, cv=n_cv)\n",
    "    print('Multilayer Perceptron Classifier (h=[50, 10]): ', end='')\n",
    "    print(' > %s' % ['%.5f' % s for s in scores])\n",
    "    performances[('MLPClassifier (50,10) norm', head)] = scores\n",
    "    with open('performance_other_classifier norm.pkl', 'wb') as f:\n",
    "        pickle.dump(performances, f)\n",
    "    classifier.fit(x, y)\n",
    "    model_name = 'MLPClassifier (50,10) norm' + head\n",
    "    with open('../models/%s.pkl' % model_name, 'wb') as f:\n",
    "        pickle.dump(classifier, f)   \n",
    "\n",
    "    \n",
    "    classifier = SVC(C=10.0, kernel='rbf',shrinking=True)\n",
    "    scores = cross_val_score(classifier, x, y, cv=n_cv)\n",
    "    print('Support Vector Machine (rbf, C=10.0): ', end='')\n",
    "    print(' > %s' % ['%.5f' % s for s in scores])\n",
    "    performances[('SVC (C=10) norm', head)] = scores\n",
    "    with open('performance_other_classifier norm.pkl', 'wb') as f:\n",
    "        pickle.dump(performances, f)\n",
    "    classifier.fit(x, y)\n",
    "    model_name = 'Support Vector Machine (rbf, C=10.0) norm' + head\n",
    "    with open('../models/%s.pkl' % model_name, 'wb') as f:\n",
    "        pickle.dump(classifier, f)   \n",
    "\n",
    "    \n",
    "    classifier = SVC(C=1.0, kernel='rbf',shrinking=True)\n",
    "    scores = cross_val_score(classifier, x, y, cv=n_cv)\n",
    "    print('Support Vector Machine (rbf, C=1.0): ', end='')\n",
    "    print(' > %s' % ['%.5f' % s for s in scores])\n",
    "    performances[('SVC (C=1.0) norm', head)] = scores\n",
    "    with open('performance_other_classifier norm.pkl', 'wb') as f:\n",
    "        pickle.dump(performances, f)\n",
    "    classifier.fit(x, y)\n",
    "    model_name = 'SVC (C=1.0) norm' + head\n",
    "    with open('../models/%s.pkl' % model_name, 'wb') as f:\n",
    "        pickle.dump(classifier, f)   \n",
    "\n",
    "    \n",
    "    classifier = SVC(C=0.1, kernel='rbf',shrinking=True)\n",
    "    scores = cross_val_score(classifier, x, y, cv=n_cv)\n",
    "    print('Support Vector Machine (rbf, C=0.1): ', end='')\n",
    "    print(' > %s' % ['%.5f' % s for s in scores])\n",
    "    performances[('SVC (C=0.1) norm', head)] = scores\n",
    "    with open('performance_other_classifier norm.pkl', 'wb') as f:\n",
    "        pickle.dump(performances, f)\n",
    "    classifier.fit(x, y)\n",
    "    model_name = 'SVC (C=0.1) norm' + head\n",
    "    with open('../models/%s.pkl' % model_name, 'wb') as f:\n",
    "        pickle.dump(classifier, f)   \n",
    "\n",
    "    \n",
    "    print('-' * 80)"
   ]
  },
  {
   "cell_type": "code",
   "execution_count": null,
   "metadata": {
    "collapsed": true
   },
   "outputs": [],
   "source": []
  }
 ],
 "metadata": {
  "kernelspec": {
   "display_name": "Python 3",
   "language": "python",
   "name": "python3"
  },
  "language_info": {
   "codemirror_mode": {
    "name": "ipython",
    "version": 3
   },
   "file_extension": ".py",
   "mimetype": "text/x-python",
   "name": "python",
   "nbconvert_exporter": "python",
   "pygments_lexer": "ipython3",
   "version": "3.5.2"
  }
 },
 "nbformat": 4,
 "nbformat_minor": 0
}
