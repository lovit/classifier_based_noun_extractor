{
 "cells": [
  {
   "cell_type": "code",
   "execution_count": 1,
   "metadata": {
    "collapsed": true
   },
   "outputs": [],
   "source": [
    "from sklearn.svm import SVC\n",
    "from sklearn.neural_network import MLPClassifier\n",
    "from sklearn.naive_bayes import BernoulliNB\n",
    "from sklearn.model_selection import cross_val_score\n",
    "from sklearn.preprocessing import normalize\n",
    "from py.utils import load_data\n",
    "import pickle\n",
    "\n",
    "directory = '../data/'\n",
    "heads = ['l30_r15', 'l10_r10', 'l5_r5']\n",
    "n_cv = 5"
   ]
  },
  {
   "cell_type": "code",
   "execution_count": 2,
   "metadata": {
    "collapsed": false
   },
   "outputs": [
    {
     "name": "stdout",
     "output_type": "stream",
     "text": [
      "\n",
      "\n",
      "head = l30_r15\n",
      "x shape = (15105, 2770)\n",
      "y shape = (15105,)\n",
      "# features = 2770\n",
      "# L words = 15105\n",
      "\n",
      "Bernoulli Naive Bayes:  > ['0.99371', '0.99470', '0.99503', '0.99305', '0.99338']\n"
     ]
    },
    {
     "name": "stderr",
     "output_type": "stream",
     "text": [
      "/home/lovit/anaconda2/envs/jupyter_server_py3/lib/python3.5/site-packages/sklearn/utils/validation.py:429: DataConversionWarning: Data with input dtype int64 was converted to float64 by the normalize function.\n",
      "  warnings.warn(msg, _DataConversionWarning)\n"
     ]
    },
    {
     "name": "stdout",
     "output_type": "stream",
     "text": [
      "Multilayer Perceptron Classifier (h=[5]):  > ['0.99636', '0.99735', '0.99768', '0.99669', '0.99570']\n",
      "Multilayer Perceptron Classifier (h=[20]) > ['0.99636', '0.99735', '0.99801', '0.99603', '0.99536']\n",
      "Multilayer Perceptron Classifier (h=[50, 10]):  > ['0.99636', '0.99669', '0.99735', '0.99702', '0.99636']\n",
      "Support Vector Machine (rbf, C=10.0):  > ['0.99140', '0.98908', '0.98643', '0.98643', '0.98477']\n",
      "Support Vector Machine (rbf, C=1.0):  > ['0.83388', '0.83416', '0.83416', '0.83416', '0.83411']\n",
      "Support Vector Machine (rbf, C=0.1):  > ['0.83388', '0.83416', '0.83416', '0.83416', '0.83411']\n",
      "--------------------------------------------------------------------------------\n",
      "\n",
      "\n",
      "head = l10_r10\n",
      "x shape = (31544, 3515)\n",
      "y shape = (31544,)\n",
      "# features = 3515\n",
      "# L words = 31544\n",
      "\n",
      "Bernoulli Naive Bayes:  > ['0.99097', '0.98954', '0.99065', '0.99049', '0.98763']\n"
     ]
    },
    {
     "name": "stderr",
     "output_type": "stream",
     "text": [
      "/home/lovit/anaconda2/envs/jupyter_server_py3/lib/python3.5/site-packages/sklearn/utils/validation.py:429: DataConversionWarning: Data with input dtype int64 was converted to float64 by the normalize function.\n",
      "  warnings.warn(msg, _DataConversionWarning)\n"
     ]
    },
    {
     "name": "stdout",
     "output_type": "stream",
     "text": [
      "Multilayer Perceptron Classifier (h=[5]):  > ['0.99746', '0.99604', '0.99461', '0.99604', '0.99588']\n",
      "Multilayer Perceptron Classifier (h=[20]) > ['0.99746', '0.99604', '0.99477', '0.99588', '0.99620']\n",
      "Multilayer Perceptron Classifier (h=[50, 10]):  > ['0.99731', '0.99572', '0.99445', '0.99572', '0.99620']\n",
      "Support Vector Machine (rbf, C=10.0):  > ['0.98780', '0.98605', '0.98637', '0.98447', '0.98716']\n",
      "Support Vector Machine (rbf, C=1.0):  > ['0.86908', '0.86908', '0.86908', '0.86908', '0.86906']\n",
      "Support Vector Machine (rbf, C=0.1):  > ['0.86908', '0.86908', '0.86908', '0.86908', '0.86906']\n",
      "--------------------------------------------------------------------------------\n",
      "\n",
      "\n",
      "head = l5_r5\n",
      "x shape = (50229, 5361)\n",
      "y shape = (50229,)\n",
      "# features = 5361\n",
      "# L words = 50229\n",
      "\n",
      "Bernoulli Naive Bayes:  > ['0.98507', '0.98507', '0.98557', '0.98756', '0.98606']\n"
     ]
    },
    {
     "name": "stderr",
     "output_type": "stream",
     "text": [
      "/home/lovit/anaconda2/envs/jupyter_server_py3/lib/python3.5/site-packages/sklearn/utils/validation.py:429: DataConversionWarning: Data with input dtype int64 was converted to float64 by the normalize function.\n",
      "  warnings.warn(msg, _DataConversionWarning)\n"
     ]
    },
    {
     "name": "stdout",
     "output_type": "stream",
     "text": [
      "Multilayer Perceptron Classifier (h=[5]):  > ['0.99602', '0.99462', '0.99572', '0.99602', '0.99522']\n",
      "Multilayer Perceptron Classifier (h=[20]) > ['0.99572', '0.99423', '0.99562', '0.99582', '0.99482']\n",
      "Multilayer Perceptron Classifier (h=[50, 10]):  > ['0.99612', '0.99462', '0.99502', '0.99582', '0.99482']\n",
      "Support Vector Machine (rbf, C=10.0):  > ['0.97472', '0.97193', '0.97521', '0.97651', '0.97362']\n",
      "Support Vector Machine (rbf, C=1.0):  > ['0.88981', '0.88981', '0.88981', '0.88981', '0.88990']\n",
      "Support Vector Machine (rbf, C=0.1):  > ['0.88981', '0.88981', '0.88981', '0.88981', '0.88990']\n",
      "--------------------------------------------------------------------------------\n"
     ]
    }
   ],
   "source": [
    "import pickle\n",
    "performances = {}\n",
    "\n",
    "for head in heads:\n",
    "    print('\\n\\nhead = %s' % head)\n",
    "    x, y, x_words, vocabs = load_data(head, directory)\n",
    "    x = normalize(x)\n",
    "    \n",
    "    classifier = BernoulliNB()\n",
    "    scores = cross_val_score(classifier, x, y, cv=n_cv)\n",
    "    print('\\nBernoulli Naive Bayes: ', end='')\n",
    "    print(' > %s' % ['%.5f' % s for s in scores])\n",
    "    performances[('BernoulliNB norm', head)] = scores\n",
    "    with open('performance_other_classifier norm.pkl', 'wb') as f:\n",
    "        pickle.dump(performances, f)\n",
    "    classifier.fit(x, y)\n",
    "    model_name = 'BernoulliNB norm ' + head\n",
    "    with open('../models/%s.pkl' % model_name, 'wb') as f:\n",
    "        pickle.dump(classifier, f)   \n",
    "        \n",
    "    \n",
    "    classifier = MLPClassifier(hidden_layer_sizes=(5,))\n",
    "    scores = cross_val_score(classifier, x, y, cv=n_cv)\n",
    "    print('Multilayer Perceptron Classifier (h=[5]): ', end='')\n",
    "    print(' > %s' % ['%.5f' % s for s in scores])\n",
    "    performances[('MLPClassifier (5,) norm', head)] = scores\n",
    "    with open('performance_other_classifier norm.pkl', 'wb') as f:\n",
    "        pickle.dump(performances, f)\n",
    "    classifier.fit(x, y)\n",
    "    model_name = 'MLPClassifier (5,) norm' + head\n",
    "    with open('../models/%s.pkl' % model_name, 'wb') as f:\n",
    "        pickle.dump(classifier, f)   \n",
    "\n",
    "    \n",
    "    classifier = MLPClassifier(hidden_layer_sizes=(20,))\n",
    "    scores = cross_val_score(classifier, x, y, cv=n_cv)\n",
    "    print('Multilayer Perceptron Classifier (h=[20])', end='')\n",
    "    print(' > %s' % ['%.5f' % s for s in scores])\n",
    "    performances[('MLPClassifier (20,) norm', head)] = scores\n",
    "    with open('performance_other_classifier norm.pkl', 'wb') as f:\n",
    "        pickle.dump(performances, f)\n",
    "    classifier.fit(x, y)\n",
    "    model_name = 'MLPClassifier (20,) norm' + head\n",
    "    with open('../models/%s.pkl' % model_name, 'wb') as f:\n",
    "        pickle.dump(classifier, f)   \n",
    "\n",
    "    \n",
    "    classifier = MLPClassifier(hidden_layer_sizes=(50,10))\n",
    "    scores = cross_val_score(classifier, x, y, cv=n_cv)\n",
    "    print('Multilayer Perceptron Classifier (h=[50, 10]): ', end='')\n",
    "    print(' > %s' % ['%.5f' % s for s in scores])\n",
    "    performances[('MLPClassifier (50,10) norm', head)] = scores\n",
    "    with open('performance_other_classifier norm.pkl', 'wb') as f:\n",
    "        pickle.dump(performances, f)\n",
    "    classifier.fit(x, y)\n",
    "    model_name = 'MLPClassifier (50,10) norm' + head\n",
    "    with open('../models/%s.pkl' % model_name, 'wb') as f:\n",
    "        pickle.dump(classifier, f)   \n",
    "\n",
    "    \n",
    "    classifier = SVC(C=10.0, kernel='rbf',shrinking=True)\n",
    "    scores = cross_val_score(classifier, x, y, cv=n_cv)\n",
    "    print('Support Vector Machine (rbf, C=10.0): ', end='')\n",
    "    print(' > %s' % ['%.5f' % s for s in scores])\n",
    "    performances[('SVC (C=10) norm', head)] = scores\n",
    "    with open('performance_other_classifier norm.pkl', 'wb') as f:\n",
    "        pickle.dump(performances, f)\n",
    "    classifier.fit(x, y)\n",
    "    model_name = 'Support Vector Machine (rbf, C=10.0) norm' + head\n",
    "    with open('../models/%s.pkl' % model_name, 'wb') as f:\n",
    "        pickle.dump(classifier, f)   \n",
    "\n",
    "    \n",
    "    classifier = SVC(C=1.0, kernel='rbf',shrinking=True)\n",
    "    scores = cross_val_score(classifier, x, y, cv=n_cv)\n",
    "    print('Support Vector Machine (rbf, C=1.0): ', end='')\n",
    "    print(' > %s' % ['%.5f' % s for s in scores])\n",
    "    performances[('SVC (C=1.0) norm', head)] = scores\n",
    "    with open('performance_other_classifier norm.pkl', 'wb') as f:\n",
    "        pickle.dump(performances, f)\n",
    "    classifier.fit(x, y)\n",
    "    model_name = 'SVC (C=1.0) norm' + head\n",
    "    with open('../models/%s.pkl' % model_name, 'wb') as f:\n",
    "        pickle.dump(classifier, f)   \n",
    "\n",
    "    \n",
    "    classifier = SVC(C=0.1, kernel='rbf',shrinking=True)\n",
    "    scores = cross_val_score(classifier, x, y, cv=n_cv)\n",
    "    print('Support Vector Machine (rbf, C=0.1): ', end='')\n",
    "    print(' > %s' % ['%.5f' % s for s in scores])\n",
    "    performances[('SVC (C=0.1) norm', head)] = scores\n",
    "    with open('performance_other_classifier norm.pkl', 'wb') as f:\n",
    "        pickle.dump(performances, f)\n",
    "    classifier.fit(x, y)\n",
    "    model_name = 'SVC (C=0.1) norm' + head\n",
    "    with open('../models/%s.pkl' % model_name, 'wb') as f:\n",
    "        pickle.dump(classifier, f)   \n",
    "\n",
    "    \n",
    "    print('-' * 80)"
   ]
  },
  {
   "cell_type": "code",
   "execution_count": null,
   "metadata": {
    "collapsed": true
   },
   "outputs": [],
   "source": []
  }
 ],
 "metadata": {
  "kernelspec": {
   "display_name": "Python 3",
   "language": "python",
   "name": "python3"
  },
  "language_info": {
   "codemirror_mode": {
    "name": "ipython",
    "version": 3
   },
   "file_extension": ".py",
   "mimetype": "text/x-python",
   "name": "python",
   "nbconvert_exporter": "python",
   "pygments_lexer": "ipython3",
   "version": "3.5.2"
  }
 },
 "nbformat": 4,
 "nbformat_minor": 0
}
