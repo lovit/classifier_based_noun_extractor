{
 "cells": [
  {
   "cell_type": "code",
   "execution_count": 1,
   "metadata": {
    "collapsed": true
   },
   "outputs": [],
   "source": [
    "from sklearn.svm import SVC\n",
    "from sklearn.neural_network import MLPClassifier\n",
    "from sklearn.naive_bayes import BernoulliNB\n",
    "from sklearn.model_selection import cross_val_score\n",
    "from sklearn.preprocessing import normalize\n",
    "from py.utils import load_data\n",
    "import pickle\n",
    "\n",
    "directory = '../data/'\n",
    "heads = ['l30_r15', 'l10_r10', 'l5_r5']\n",
    "n_cv = 5"
   ]
  },
  {
   "cell_type": "code",
   "execution_count": 2,
   "metadata": {
    "collapsed": false
   },
   "outputs": [
    {
     "name": "stdout",
     "output_type": "stream",
     "text": [
      "\n",
      "\n",
      "head = l30_r15\n",
      "x shape = (15166, 2617)\n",
      "y shape = (15166,)\n",
      "# features = 2617\n",
      "# L words = 15166\n",
      "\n",
      "Bernoulli Naive Bayes:  > ['0.99011', '0.98681', '0.98648', '0.98615', '0.98582']\n"
     ]
    },
    {
     "name": "stderr",
     "output_type": "stream",
     "text": [
      "/home/lovit/anaconda2/envs/jupyter_server_py3/lib/python3.5/site-packages/sklearn/utils/validation.py:429: DataConversionWarning: Data with input dtype int64 was converted to float64 by the normalize function.\n",
      "  warnings.warn(msg, _DataConversionWarning)\n"
     ]
    },
    {
     "name": "stdout",
     "output_type": "stream",
     "text": [
      "Multilayer Perceptron Classifier (h=[5]):  > ['0.99308', '0.98879', '0.98978', '0.99143', '0.99110']\n",
      "Multilayer Perceptron Classifier (h=[20]) > ['0.99176', '0.98978', '0.98879', '0.99110', '0.99011']\n",
      "Multilayer Perceptron Classifier (h=[50, 10]):  > ['0.99308', '0.98879', '0.98912', '0.99143', '0.98912']\n",
      "Support Vector Machine (rbf, C=10.0):  > ['0.98583', '0.97857', '0.98351', '0.98220', '0.98318']\n",
      "Support Vector Machine (rbf, C=1.0):  > ['0.83454', '0.83482', '0.83482', '0.83482', '0.83482']\n",
      "Support Vector Machine (rbf, C=0.1):  > ['0.83454', '0.83482', '0.83482', '0.83482', '0.83482']\n",
      "--------------------------------------------------------------------------------\n",
      "\n",
      "\n",
      "head = l10_r10\n",
      "x shape = (31797, 3297)\n",
      "y shape = (31797,)\n",
      "# features = 3297\n",
      "# L words = 31797\n",
      "\n",
      "Bernoulli Naive Bayes:  > ['0.98145', '0.98302', '0.98207', '0.98081', '0.98066']\n"
     ]
    },
    {
     "name": "stderr",
     "output_type": "stream",
     "text": [
      "/home/lovit/anaconda2/envs/jupyter_server_py3/lib/python3.5/site-packages/sklearn/utils/validation.py:429: DataConversionWarning: Data with input dtype int64 was converted to float64 by the normalize function.\n",
      "  warnings.warn(msg, _DataConversionWarning)\n"
     ]
    },
    {
     "name": "stdout",
     "output_type": "stream",
     "text": [
      "Multilayer Perceptron Classifier (h=[5]):  > ['0.98726', '0.98884', '0.98789', '0.98695', '0.98679']\n",
      "Multilayer Perceptron Classifier (h=[20]) > ['0.98695', '0.98805', '0.98695', '0.98569', '0.98710']\n",
      "Multilayer Perceptron Classifier (h=[50, 10]):  > ['0.98726', '0.98711', '0.98758', '0.98600', '0.98789']\n",
      "Support Vector Machine (rbf, C=10.0):  > ['0.97626', '0.97736', '0.97908', '0.97688', '0.97327']\n",
      "Support Vector Machine (rbf, C=1.0):  > ['0.87013', '0.87013', '0.87011', '0.87011', '0.87011']\n",
      "Support Vector Machine (rbf, C=0.1):  > ['0.87013', '0.87013', '0.87011', '0.87011', '0.87011']\n",
      "--------------------------------------------------------------------------------\n",
      "\n",
      "\n",
      "head = l5_r5\n",
      "x shape = (50764, 4995)\n",
      "y shape = (50764,)\n",
      "# features = 4995\n",
      "# L words = 50764\n",
      "\n",
      "Bernoulli Naive Bayes:  > ['0.97853', '0.97538', '0.97725', '0.97626', '0.97419']\n"
     ]
    },
    {
     "name": "stderr",
     "output_type": "stream",
     "text": [
      "/home/lovit/anaconda2/envs/jupyter_server_py3/lib/python3.5/site-packages/sklearn/utils/validation.py:429: DataConversionWarning: Data with input dtype int64 was converted to float64 by the normalize function.\n",
      "  warnings.warn(msg, _DataConversionWarning)\n"
     ]
    },
    {
     "name": "stdout",
     "output_type": "stream",
     "text": [
      "Multilayer Perceptron Classifier (h=[5]):  > ['0.98670', '0.98355', '0.98434', '0.98424', '0.98463']\n",
      "Multilayer Perceptron Classifier (h=[20]) > ['0.98532', '0.98247', '0.98464', '0.98483', '0.98375']\n",
      "Multilayer Perceptron Classifier (h=[50, 10]):  > ['0.98641', '0.98385', '0.98532', '0.98483', '0.98414']\n",
      "Support Vector Machine (rbf, C=10.0):  > ['0.96819', '0.96760', '0.96829', '0.96819', '0.96277']\n",
      "Support Vector Machine (rbf, C=1.0):  > ['0.89097', '0.89097', '0.89097', '0.89097', '0.89106']\n",
      "Support Vector Machine (rbf, C=0.1):  > ['0.89097', '0.89097', '0.89097', '0.89097', '0.89106']\n",
      "--------------------------------------------------------------------------------\n"
     ]
    }
   ],
   "source": [
    "import pickle\n",
    "performances = {}\n",
    "\n",
    "for head in heads:\n",
    "    print('\\n\\nhead = %s' % head)\n",
    "    x, y, x_words, vocabs = load_data(head, directory)\n",
    "    x = normalize(x)\n",
    "    \n",
    "    classifier = BernoulliNB()\n",
    "    scores = cross_val_score(classifier, x, y, cv=n_cv)\n",
    "    print('\\nBernoulli Naive Bayes: ', end='')\n",
    "    print(' > %s' % ['%.5f' % s for s in scores])\n",
    "    performances[('BernoulliNB norm', head)] = scores\n",
    "    with open('performance_other_classifier norm.pkl', 'wb') as f:\n",
    "        pickle.dump(performances, f)\n",
    "    classifier.fit(x, y)\n",
    "    model_name = 'BernoulliNB norm ' + head\n",
    "    with open('../models/%s.pkl' % model_name, 'wb') as f:\n",
    "        pickle.dump(classifier, f)   \n",
    "        \n",
    "    \n",
    "    classifier = MLPClassifier(hidden_layer_sizes=(5,))\n",
    "    scores = cross_val_score(classifier, x, y, cv=n_cv)\n",
    "    print('Multilayer Perceptron Classifier (h=[5]): ', end='')\n",
    "    print(' > %s' % ['%.5f' % s for s in scores])\n",
    "    performances[('MLPClassifier (5,) norm', head)] = scores\n",
    "    with open('performance_other_classifier norm.pkl', 'wb') as f:\n",
    "        pickle.dump(performances, f)\n",
    "    classifier.fit(x, y)\n",
    "    model_name = 'MLPClassifier (5,) norm' + head\n",
    "    with open('../models/%s.pkl' % model_name, 'wb') as f:\n",
    "        pickle.dump(classifier, f)   \n",
    "\n",
    "    \n",
    "    classifier = MLPClassifier(hidden_layer_sizes=(20,))\n",
    "    scores = cross_val_score(classifier, x, y, cv=n_cv)\n",
    "    print('Multilayer Perceptron Classifier (h=[20])', end='')\n",
    "    print(' > %s' % ['%.5f' % s for s in scores])\n",
    "    performances[('MLPClassifier (20,) norm', head)] = scores\n",
    "    with open('performance_other_classifier norm.pkl', 'wb') as f:\n",
    "        pickle.dump(performances, f)\n",
    "    classifier.fit(x, y)\n",
    "    model_name = 'MLPClassifier (20,) norm' + head\n",
    "    with open('../models/%s.pkl' % model_name, 'wb') as f:\n",
    "        pickle.dump(classifier, f)   \n",
    "\n",
    "    \n",
    "    classifier = MLPClassifier(hidden_layer_sizes=(50,10))\n",
    "    scores = cross_val_score(classifier, x, y, cv=n_cv)\n",
    "    print('Multilayer Perceptron Classifier (h=[50, 10]): ', end='')\n",
    "    print(' > %s' % ['%.5f' % s for s in scores])\n",
    "    performances[('MLPClassifier (50,10) norm', head)] = scores\n",
    "    with open('performance_other_classifier norm.pkl', 'wb') as f:\n",
    "        pickle.dump(performances, f)\n",
    "    classifier.fit(x, y)\n",
    "    model_name = 'MLPClassifier (50,10) norm' + head\n",
    "    with open('../models/%s.pkl' % model_name, 'wb') as f:\n",
    "        pickle.dump(classifier, f)   \n",
    "\n",
    "    \n",
    "    classifier = SVC(C=10.0, kernel='rbf',shrinking=True)\n",
    "    scores = cross_val_score(classifier, x, y, cv=n_cv)\n",
    "    print('Support Vector Machine (rbf, C=10.0): ', end='')\n",
    "    print(' > %s' % ['%.5f' % s for s in scores])\n",
    "    performances[('SVC (C=10) norm', head)] = scores\n",
    "    with open('performance_other_classifier norm.pkl', 'wb') as f:\n",
    "        pickle.dump(performances, f)\n",
    "    classifier.fit(x, y)\n",
    "    model_name = 'Support Vector Machine (rbf, C=10.0) norm' + head\n",
    "    with open('../models/%s.pkl' % model_name, 'wb') as f:\n",
    "        pickle.dump(classifier, f)   \n",
    "\n",
    "    \n",
    "    classifier = SVC(C=1.0, kernel='rbf',shrinking=True)\n",
    "    scores = cross_val_score(classifier, x, y, cv=n_cv)\n",
    "    print('Support Vector Machine (rbf, C=1.0): ', end='')\n",
    "    print(' > %s' % ['%.5f' % s for s in scores])\n",
    "    performances[('SVC (C=1.0) norm', head)] = scores\n",
    "    with open('performance_other_classifier norm.pkl', 'wb') as f:\n",
    "        pickle.dump(performances, f)\n",
    "    classifier.fit(x, y)\n",
    "    model_name = 'SVC (C=1.0) norm' + head\n",
    "    with open('../models/%s.pkl' % model_name, 'wb') as f:\n",
    "        pickle.dump(classifier, f)   \n",
    "\n",
    "    \n",
    "    classifier = SVC(C=0.1, kernel='rbf',shrinking=True)\n",
    "    scores = cross_val_score(classifier, x, y, cv=n_cv)\n",
    "    print('Support Vector Machine (rbf, C=0.1): ', end='')\n",
    "    print(' > %s' % ['%.5f' % s for s in scores])\n",
    "    performances[('SVC (C=0.1) norm', head)] = scores\n",
    "    with open('performance_other_classifier norm.pkl', 'wb') as f:\n",
    "        pickle.dump(performances, f)\n",
    "    classifier.fit(x, y)\n",
    "    model_name = 'SVC (C=0.1) norm' + head\n",
    "    with open('../models/%s.pkl' % model_name, 'wb') as f:\n",
    "        pickle.dump(classifier, f)   \n",
    "\n",
    "    \n",
    "    print('-' * 80)"
   ]
  },
  {
   "cell_type": "code",
   "execution_count": null,
   "metadata": {
    "collapsed": true
   },
   "outputs": [],
   "source": []
  }
 ],
 "metadata": {
  "kernelspec": {
   "display_name": "Python 3",
   "language": "python",
   "name": "python3"
  },
  "language_info": {
   "codemirror_mode": {
    "name": "ipython",
    "version": 3
   },
   "file_extension": ".py",
   "mimetype": "text/x-python",
   "name": "python",
   "nbconvert_exporter": "python",
   "pygments_lexer": "ipython3",
   "version": "3.5.2"
  }
 },
 "nbformat": 4,
 "nbformat_minor": 0
}
