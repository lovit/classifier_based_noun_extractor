{
 "cells": [
  {
   "cell_type": "markdown",
   "metadata": {},
   "source": [
    "## L-R matrix에서 R이 조사라는 정보를 왜 쓰지 않는가? \n",
    "\n",
    "R이 반드시 조사가 아닐 수 있다. '보상 + 해줌'의 경우 [보상/명사 + 하/동사 + ㅐ/선어말어미 + 줌/명사전성어미]이지만, '- 해줌'의 앞의 단어는 명사라 판단할 수 있는 매우 좋은 근거가 된다. \n",
    "\n",
    "L-R matrix는 복합형태소로 이뤄질 수 있는 R set을 하나로 뭉쳐 마치 조사처럼 L이 명사인지 아닌지를 판단할 수 있는 feature가 되게 한다. "
   ]
  },
  {
   "cell_type": "code",
   "execution_count": null,
   "metadata": {
    "collapsed": true
   },
   "outputs": [],
   "source": []
  }
 ],
 "metadata": {
  "kernelspec": {
   "display_name": "Python 3",
   "language": "python",
   "name": "python3"
  },
  "language_info": {
   "codemirror_mode": {
    "name": "ipython",
    "version": 3
   },
   "file_extension": ".py",
   "mimetype": "text/x-python",
   "name": "python",
   "nbconvert_exporter": "python",
   "pygments_lexer": "ipython3",
   "version": "3.5.2"
  }
 },
 "nbformat": 4,
 "nbformat_minor": 0
}
