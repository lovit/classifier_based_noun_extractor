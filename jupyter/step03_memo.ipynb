{
 "cells": [
  {
   "cell_type": "markdown",
   "metadata": {},
   "source": [
    "## L-R matrix에서 R이 조사라는 정보를 왜 쓰지 않는가? \n",
    "\n",
    "R이 반드시 조사가 아닐 수 있다. '보상 + 해줌'의 경우 [보상/명사 + 하/동사 + ㅐ/선어말어미 + 줌/명사전성어미]이지만, '- 해줌'의 앞의 단어는 명사라 판단할 수 있는 매우 좋은 근거가 된다. \n",
    "\n",
    "L-R matrix는 복합형태소로 이뤄질 수 있는 R set을 하나로 뭉쳐 마치 조사처럼 L이 명사인지 아닌지를 판단할 수 있는 feature가 되게 한다. "
   ]
  },
  {
   "cell_type": "markdown",
   "metadata": {
    "collapsed": true
   },
   "source": [
    "## L2 는 정말 좋은 Regularization 인가? \n",
    "\n",
    "L2는 coefficients의 제곱의 합을 최소화 하려고 노력하기 때문에 자주 이용되는 features에 대한 coefficient의 절대값을 키우려는 경향이 있다. \n",
    "\n",
    "\"- 해줌으로써\"는 명사를 구분할 수 있는 좋은 조사이지만, 데이터에 등장한 횟수는 별로 많지 않다. 그렇기 때문에 coefficient가 매우 작게 나오게 된다. (coef = 0.000196)\n",
    "\n",
    "반대로 \"- 하는\"의 경우, [좋아 - 하는, 못 - 하는, ...]등의 오류가 있음에도 압도적인 명사들 때문에 높은 coefficient (2.033)을 가지게 된다. \n",
    "\n",
    "이런 입장에서 오히려 L2 regularization Logistic Regression 보다 Naive Bayes나 proportion 기반 방법이 더 좋은 것이 아닌가? \n",
    "\n",
    "L2 regularization은 학습데이터에서 등장한 R set의 frequency에 scale의 영향을 받는다. 본질적인 이유는 L-R matrix가 sparse matrix여서 L을 설명하는 R set features가 언제나 이용되는 것이 아니며, R set frequency 역시 Zipw's law를 따라 skewed 되어있기 때문이다. 그리고 데이터셋이 바뀜에 따라 R set frequency distribution이 달라지면 coefficient scale이 문제가 될 수 있다. 세종말뭉치에 이용되었던 문서들과 현제의 온라인 문서에서의 R set distribution은 분명 다를 수 밖에 없고, 지금 질 좋은 features가 될 수 있는 R set 들의 coefficients의 절대값이 작다면 분석이 잘 되지 않을 수도 있다. "
   ]
  },
  {
   "cell_type": "code",
   "execution_count": null,
   "metadata": {
    "collapsed": true
   },
   "outputs": [],
   "source": [
    "w = '해줌으로써'\n",
    "print(str(sorted(rlgraph.get(w, {}).items(), key=lambda x:x[1], reverse=True)[:5]) + ' - %s' % w)\n",
    "str(sorted(rlgraph.get(w, {}).items(), key=lambda x:x[1], reverse=True)[:20])[:-1] + (']' if len(rlgraph.get(w, {})) <= 20 else ', ...]')\n"
   ]
  },
  {
   "cell_type": "markdown",
   "metadata": {},
   "source": [
    "    [('보장', 2), ('마련', 2), ('보상', 2), ('명시', 1), ('보전', 1)] - 해줌으로써\n",
    "\n",
    "    \"[('보장', 2), ('마련', 2), ('보상', 2), ('명시', 1), ('보전', 1), ('지원', 1), ('얘기', 1), ('지지', 1), ('제공', 1), ('대출', 1), ('인정', 1), ('대여', 1), ('확인', 1)]\""
   ]
  },
  {
   "cell_type": "code",
   "execution_count": null,
   "metadata": {
    "collapsed": true
   },
   "outputs": [],
   "source": [
    "w = '하는'\n",
    "print(str(sorted(rlgraph.get(w, {}).items(), key=lambda x:x[1], reverse=True)[:5]) + ' - %s' % w)\n",
    "str(sorted(rlgraph.get(w, {}).items(), key=lambda x:x[1], reverse=True)[:20])[:-1] + (']' if len(rlgraph.get(w, {})) <= 20 else ', ...]')"
   ]
  },
  {
   "cell_type": "markdown",
   "metadata": {},
   "source": [
    "    [('못', 2114), ('말', 1953), ('생각', 1356), ('좋아', 1002), ('원', 847)] - 하는\n",
    "    \n",
    "    \"[('못', 2114), ('말', 1953), ('생각', 1356), ('좋아', 1002), ('원', 847), ('사용', 834), ('사랑', 673), ('일', 647), ('요구', 598), ('존재', 551), ('추구', 528), ('주장', 502), ('해당', 501), ('발생', 487), ('차지', 484), ('제공', 481), ('등장', 393), ('이해', 383), ('의미', 376), ('시작', 374), ...]\""
   ]
  },
  {
   "cell_type": "code",
   "execution_count": null,
   "metadata": {
    "collapsed": true
   },
   "outputs": [],
   "source": [
    "coefficient['하는'], coefficient['해줌으로써'], "
   ]
  },
  {
   "cell_type": "markdown",
   "metadata": {},
   "source": [
    "    (2.0333080567632096, 0.00019593425186685041)\n"
   ]
  },
  {
   "cell_type": "code",
   "execution_count": null,
   "metadata": {
    "collapsed": true
   },
   "outputs": [],
   "source": [
    "josa[:20]"
   ]
  },
  {
   "cell_type": "markdown",
   "metadata": {},
   "source": [
    "    [('의', 6.2108250932929217),\n",
    "     ('를', 5.2275917393592097),\n",
    "     ('가', 4.3986751160523632),\n",
    "     ('한', 3.7657194150629776),\n",
    "     ('에', 3.5512693551084609),\n",
    "     ('로', 3.5400023136261112),\n",
    "     ('이', 3.2809566440846751),\n",
    "     ('을', 2.8668114740415227),\n",
    "     ('으로', 2.6465314028770761),\n",
    "     ('적인', 2.4873089663273582),\n",
    "     ('하고', 2.3397713254276393),\n",
    "     ('된', 2.1779089976672568),\n",
    "     ('에서', 2.1476524916015003),\n",
    "     ('적', 2.1083448239349738),\n",
    "     ('하는', 2.0333080567632096),\n",
    "     ('할', 2.0317829273285861),\n",
    "     ('적으로', 1.6583744760803698),\n",
    "     ('이다', 1.5285098649962987),\n",
    "     ('들은', 1.5025060153070737),\n",
    "     ('에게', 1.4847704268894344)]"
   ]
  },
  {
   "cell_type": "code",
   "execution_count": null,
   "metadata": {
    "collapsed": true
   },
   "outputs": [],
   "source": [
    "josa[-200:-180]"
   ]
  },
  {
   "cell_type": "markdown",
   "metadata": {},
   "source": [
    "    [('됐음을', 0.00020547991455129269),\n",
    "     ('끓는', 0.00020398189911457259),\n",
    "     ('냐구요', 0.00020381950100549124),\n",
    "     ('이었구나', 0.00020337780768687254),\n",
    "     ('인가라고', 0.00020283424143817397),\n",
    "     ('했느냐는', 0.00020240669293992069),\n",
    "     ('에서두', 0.00020064144022782202),\n",
    "     ('했단다', 0.00020015317375592496),\n",
    "     ('적자금을', 0.00019608633897839539),\n",
    "     ('해줌으로써', 0.00019593425186685041),\n",
    "     ('에서만은', 0.00019590588147109036),\n",
    "     ('달러', 0.00019551343979462479),\n",
    "     ('해줘', 0.00019425354394409135),\n",
    "     ('하셨고', 0.00019384787685696134),\n",
    "     ('싶은', 0.00018758541793060106),\n",
    "     ('했었지', 0.00018672308447793918),\n",
    "     ('이었음은', 0.00018470679938860485),\n",
    "     ('하셨는데', 0.00018294591009844179),\n",
    "     ('하니까요', 0.00018007395979813116),\n",
    "     ('이서만', 0.00017946260198717647)]"
   ]
  },
  {
   "cell_type": "code",
   "execution_count": null,
   "metadata": {
    "collapsed": true
   },
   "outputs": [],
   "source": []
  }
 ],
 "metadata": {
  "kernelspec": {
   "display_name": "Python 3",
   "language": "python",
   "name": "python3"
  },
  "language_info": {
   "codemirror_mode": {
    "name": "ipython",
    "version": 3
   },
   "file_extension": ".py",
   "mimetype": "text/x-python",
   "name": "python",
   "nbconvert_exporter": "python",
   "pygments_lexer": "ipython3",
   "version": "3.5.2"
  }
 },
 "nbformat": 4,
 "nbformat_minor": 0
}
