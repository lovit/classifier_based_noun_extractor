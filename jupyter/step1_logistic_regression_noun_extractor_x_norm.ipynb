{
 "cells": [
  {
   "cell_type": "code",
   "execution_count": 1,
   "metadata": {
    "collapsed": false
   },
   "outputs": [],
   "source": [
    "from sklearn.linear_model import LogisticRegression\n",
    "from sklearn.model_selection import cross_val_score\n",
    "from sklearn.preprocessing import normalize\n",
    "from py.utils import load_data\n",
    "import pickle"
   ]
  },
  {
   "cell_type": "code",
   "execution_count": 2,
   "metadata": {
    "collapsed": true
   },
   "outputs": [],
   "source": [
    "heads = ['l30_r15', 'l10_r10', 'l5_r5']\n",
    "directory = '../data/'\n",
    "n_cv = 5\n",
    "performances = {}"
   ]
  },
  {
   "cell_type": "markdown",
   "metadata": {},
   "source": [
    "## Logistic Regression  + L2"
   ]
  },
  {
   "cell_type": "code",
   "execution_count": 3,
   "metadata": {
    "collapsed": false
   },
   "outputs": [
    {
     "name": "stdout",
     "output_type": "stream",
     "text": [
      "## dataset = l30_r15 ##\n",
      "x shape = (15715, 4551)\n",
      "y shape = (15715,)\n",
      "# features = 4551\n",
      "# L words = 15715\n"
     ]
    },
    {
     "name": "stderr",
     "output_type": "stream",
     "text": [
      "/home/lovit/anaconda2/envs/jupyter_server_py3/lib/python3.5/site-packages/sklearn/utils/validation.py:429: DataConversionWarning: Data with input dtype int64 was converted to float64 by the normalize function.\n",
      "  warnings.warn(msg, _DataConversionWarning)\n"
     ]
    },
    {
     "name": "stdout",
     "output_type": "stream",
     "text": [
      "\n",
      "cost= 4.00: [ 0.9971374   0.99300032  0.99586382  0.99331849  0.99554424]\n",
      "\n",
      "cost= 1.00: [ 0.9971374   0.99300032  0.99586382  0.99331849  0.99554424]\n",
      "\n",
      "cost= 0.25: [ 0.9971374   0.99300032  0.99586382  0.99331849  0.99554424]\n",
      "--------------------------------------------------------------------------------\n",
      "## dataset = l10_r10 ##\n",
      "x shape = (31664, 5857)\n",
      "y shape = (31664,)\n",
      "# features = 5857\n",
      "# L words = 31664\n"
     ]
    },
    {
     "name": "stderr",
     "output_type": "stream",
     "text": [
      "/home/lovit/anaconda2/envs/jupyter_server_py3/lib/python3.5/site-packages/sklearn/utils/validation.py:429: DataConversionWarning: Data with input dtype int64 was converted to float64 by the normalize function.\n",
      "  warnings.warn(msg, _DataConversionWarning)\n"
     ]
    },
    {
     "name": "stdout",
     "output_type": "stream",
     "text": [
      "\n",
      "cost= 4.00: [ 0.99415759  0.99257856  0.99305227  0.99289436  0.99194567]\n",
      "\n",
      "cost= 1.00: [ 0.99415759  0.99257856  0.99305227  0.99289436  0.99194567]\n",
      "\n",
      "cost= 0.25: [ 0.99415759  0.99257856  0.99305227  0.99289436  0.99194567]\n",
      "--------------------------------------------------------------------------------\n",
      "## dataset = l5_r5 ##\n",
      "x shape = (49547, 9307)\n",
      "y shape = (49547,)\n",
      "# features = 9307\n",
      "# L words = 49547\n"
     ]
    },
    {
     "name": "stderr",
     "output_type": "stream",
     "text": [
      "/home/lovit/anaconda2/envs/jupyter_server_py3/lib/python3.5/site-packages/sklearn/utils/validation.py:429: DataConversionWarning: Data with input dtype int64 was converted to float64 by the normalize function.\n",
      "  warnings.warn(msg, _DataConversionWarning)\n"
     ]
    },
    {
     "name": "stdout",
     "output_type": "stream",
     "text": [
      "\n",
      "cost= 4.00: [ 0.99192735  0.99122099  0.99172469  0.99152286  0.99051367]\n",
      "\n",
      "cost= 1.00: [ 0.99192735  0.99122099  0.99172469  0.99152286  0.99051367]\n",
      "\n",
      "cost= 0.25: [ 0.99192735  0.99122099  0.99172469  0.99152286  0.99051367]\n",
      "--------------------------------------------------------------------------------\n"
     ]
    }
   ],
   "source": [
    "for head in heads:\n",
    "    print('## dataset = %s ##' % head)\n",
    "    x, y, x_words, vocabs = load_data(head, directory)\n",
    "    x = normalize(x)\n",
    "    for cost in [4.0, 1.0, 0.25]:\n",
    "        classifier = LogisticRegression(penalty='l2', C=1)\n",
    "        scores = cross_val_score(classifier, x, y, cv=n_cv)\n",
    "        print('\\ncost= %.2f: %s' % (cost, scores))\n",
    "\n",
    "        performances[('Logistic + L2 (C=%.2f) norm' % cost, head)] = scores\n",
    "        classifier.fit(x, y)\n",
    "        model_name = 'Logistic + L2 (C=%.2f) norm ' % cost + head\n",
    "        with open('../models/%s.pkl' % model_name, 'wb') as f:\n",
    "            pickle.dump(classifier, f)\n",
    "            \n",
    "    print('-'*80)"
   ]
  },
  {
   "cell_type": "markdown",
   "metadata": {
    "collapsed": true
   },
   "source": [
    "## Logistic Regression + L1"
   ]
  },
  {
   "cell_type": "code",
   "execution_count": 4,
   "metadata": {
    "collapsed": false
   },
   "outputs": [
    {
     "name": "stdout",
     "output_type": "stream",
     "text": [
      "## dataset = l30_r15 ##\n",
      "x shape = (15715, 4551)\n",
      "y shape = (15715,)\n",
      "# features = 4551\n",
      "# L words = 15715\n"
     ]
    },
    {
     "name": "stderr",
     "output_type": "stream",
     "text": [
      "/home/lovit/anaconda2/envs/jupyter_server_py3/lib/python3.5/site-packages/sklearn/utils/validation.py:429: DataConversionWarning: Data with input dtype int64 was converted to float64 by the normalize function.\n",
      "  warnings.warn(msg, _DataConversionWarning)\n"
     ]
    },
    {
     "name": "stdout",
     "output_type": "stream",
     "text": [
      "\n",
      "cost=4.00: [ 0.9971374   0.99522749  0.99713649  0.99395482  0.99618078]\n",
      "\n",
      "cost=1.00: [ 0.99618321  0.99331849  0.99586382  0.99300032  0.9949077 ]\n",
      "\n",
      "cost=0.25: [ 0.99650127  0.99109131  0.99204582  0.99268215  0.99458943]\n",
      "--------------------------------------------------------------------------------\n",
      "## dataset = l10_r10 ##\n",
      "x shape = (31664, 5857)\n",
      "y shape = (31664,)\n",
      "# features = 5857\n",
      "# L words = 31664\n"
     ]
    },
    {
     "name": "stderr",
     "output_type": "stream",
     "text": [
      "/home/lovit/anaconda2/envs/jupyter_server_py3/lib/python3.5/site-packages/sklearn/utils/validation.py:429: DataConversionWarning: Data with input dtype int64 was converted to float64 by the normalize function.\n",
      "  warnings.warn(msg, _DataConversionWarning)\n"
     ]
    },
    {
     "name": "stdout",
     "output_type": "stream",
     "text": [
      "\n",
      "cost=4.00: [ 0.99542081  0.99226275  0.99415759  0.99368388  0.9932091 ]\n",
      "\n",
      "cost=1.00: [ 0.9946313   0.99099953  0.99352598  0.99273646  0.9921036 ]\n",
      "\n",
      "cost=0.25: [ 0.99257856  0.98910469  0.99084162  0.99052582  0.99020846]\n",
      "--------------------------------------------------------------------------------\n",
      "## dataset = l5_r5 ##\n",
      "x shape = (49547, 9307)\n",
      "y shape = (49547,)\n",
      "# features = 9307\n",
      "# L words = 49547\n"
     ]
    },
    {
     "name": "stderr",
     "output_type": "stream",
     "text": [
      "/home/lovit/anaconda2/envs/jupyter_server_py3/lib/python3.5/site-packages/sklearn/utils/validation.py:429: DataConversionWarning: Data with input dtype int64 was converted to float64 by the normalize function.\n",
      "  warnings.warn(msg, _DataConversionWarning)\n"
     ]
    },
    {
     "name": "stdout",
     "output_type": "stream",
     "text": [
      "\n",
      "cost=4.00: [ 0.99293643  0.99112008  0.9923302   0.99243112  0.99111918]\n",
      "\n",
      "cost=1.00: [ 0.99192735  0.98990918  0.99132102  0.99182561  0.99051367]\n",
      "\n",
      "cost=0.25: [ 0.98980827  0.98819374  0.98940357  0.98990816  0.98819255]\n",
      "--------------------------------------------------------------------------------\n"
     ]
    }
   ],
   "source": [
    "import pickle\n",
    "\n",
    "for head in heads:    \n",
    "    print('## dataset = %s ##' % head)\n",
    "    x, y, x_words, vocabs = load_data(head, directory)\n",
    "    x = normalize(x)\n",
    "    for cost in [4, 1, 0.25]:\n",
    "        classifier = LogisticRegression(penalty='l1', C=cost, n_jobs=4)\n",
    "        scores = cross_val_score(classifier, x, y, cv=n_cv)\n",
    "        print('\\ncost=%.2f: %s' % (cost, scores))\n",
    "        \n",
    "        performances[('Logistic + L1 (C=%.2f) norm' % cost, head)] = scores        \n",
    "        model_name = 'Logistic + L1 (C=%.2f) norm ' % cost + head\n",
    "        classifier.fit(x, y)\n",
    "        with open('../models/%s.pkl' % model_name, 'wb') as f:\n",
    "            pickle.dump(classifier, f)   \n",
    "        with open('performance_logistic_regression_norm.pkl', 'wb') as f:\n",
    "            pickle.dump(performances, f)    \n",
    "        \n",
    "    print('-'*80)"
   ]
  },
  {
   "cell_type": "code",
   "execution_count": null,
   "metadata": {
    "collapsed": true
   },
   "outputs": [],
   "source": []
  }
 ],
 "metadata": {
  "kernelspec": {
   "display_name": "Python 3",
   "language": "python",
   "name": "python3"
  },
  "language_info": {
   "codemirror_mode": {
    "name": "ipython",
    "version": 3
   },
   "file_extension": ".py",
   "mimetype": "text/x-python",
   "name": "python",
   "nbconvert_exporter": "python",
   "pygments_lexer": "ipython3",
   "version": "3.5.2"
  }
 },
 "nbformat": 4,
 "nbformat_minor": 0
}
