{
 "cells": [
  {
   "cell_type": "code",
   "execution_count": 1,
   "metadata": {
    "collapsed": false
   },
   "outputs": [],
   "source": [
    "from sklearn.linear_model import LogisticRegression\n",
    "from sklearn.model_selection import cross_val_score\n",
    "from sklearn.preprocessing import normalize\n",
    "from py.utils import load_data\n",
    "import pickle"
   ]
  },
  {
   "cell_type": "code",
   "execution_count": 2,
   "metadata": {
    "collapsed": true
   },
   "outputs": [],
   "source": [
    "heads = ['l30_r15', 'l10_r10', 'l5_r5']\n",
    "directory = '../data/'\n",
    "n_cv = 5\n",
    "performances = {}"
   ]
  },
  {
   "cell_type": "markdown",
   "metadata": {},
   "source": [
    "## Logistic Regression  + L2"
   ]
  },
  {
   "cell_type": "code",
   "execution_count": 3,
   "metadata": {
    "collapsed": false
   },
   "outputs": [
    {
     "name": "stdout",
     "output_type": "stream",
     "text": [
      "## dataset = l30_r15 ##\n",
      "x shape = (15105, 2770)\n",
      "y shape = (15105,)\n",
      "# features = 2770\n",
      "# L words = 15105\n"
     ]
    },
    {
     "name": "stderr",
     "output_type": "stream",
     "text": [
      "/home/lovit/anaconda2/envs/jupyter_server_py3/lib/python3.5/site-packages/sklearn/utils/validation.py:429: DataConversionWarning: Data with input dtype int64 was converted to float64 by the normalize function.\n",
      "  warnings.warn(msg, _DataConversionWarning)\n"
     ]
    },
    {
     "name": "stdout",
     "output_type": "stream",
     "text": [
      "\n",
      "cost= 4.00: [ 0.99636003  0.99668984  0.99735187  0.99602781  0.99569536]\n",
      "\n",
      "cost= 1.00: [ 0.99636003  0.99635882  0.99668984  0.99569679  0.99403974]\n",
      "\n",
      "cost= 0.25: [ 0.99569821  0.99569679  0.99503476  0.99404171  0.99337748]\n",
      "\n",
      "cost= 100.00: [ 0.99602912  0.99635882  0.99702085  0.99635882  0.99536424]\n",
      "\n",
      "cost= 1000.00: [ 0.99636003  0.99635882  0.99702085  0.99668984  0.99536424]\n",
      "\n",
      "cost= 100000.00: [ 0.99470549  0.99503476  0.99470374  0.99470374  0.99337748]\n",
      "--------------------------------------------------------------------------------\n",
      "## dataset = l10_r10 ##\n",
      "x shape = (31544, 3515)\n",
      "y shape = (31544,)\n",
      "# features = 3515\n",
      "# L words = 31544\n"
     ]
    },
    {
     "name": "stderr",
     "output_type": "stream",
     "text": [
      "/home/lovit/anaconda2/envs/jupyter_server_py3/lib/python3.5/site-packages/sklearn/utils/validation.py:429: DataConversionWarning: Data with input dtype int64 was converted to float64 by the normalize function.\n",
      "  warnings.warn(msg, _DataConversionWarning)\n"
     ]
    },
    {
     "name": "stdout",
     "output_type": "stream",
     "text": [
      "\n",
      "cost= 4.00: [ 0.9958789   0.99476938  0.99397686  0.99540339  0.99524413]\n",
      "\n",
      "cost= 1.00: [ 0.9957204   0.99445237  0.99365985  0.99476938  0.99429296]\n",
      "\n",
      "cost= 0.25: [ 0.99461087  0.99334284  0.99255032  0.99381835  0.99318326]\n",
      "\n",
      "cost= 100.00: [ 0.99698843  0.99524489  0.99429387  0.9955619   0.99508561]\n",
      "\n",
      "cost= 1000.00: [ 0.99730544  0.99524489  0.99429387  0.99508638  0.99508561]\n",
      "\n",
      "cost= 100000.00: [ 0.99524489  0.99492788  0.99334284  0.99334284  0.99492708]\n",
      "--------------------------------------------------------------------------------\n",
      "## dataset = l5_r5 ##\n",
      "x shape = (50229, 5361)\n",
      "y shape = (50229,)\n",
      "# features = 5361\n",
      "# L words = 50229\n"
     ]
    },
    {
     "name": "stderr",
     "output_type": "stream",
     "text": [
      "/home/lovit/anaconda2/envs/jupyter_server_py3/lib/python3.5/site-packages/sklearn/utils/validation.py:429: DataConversionWarning: Data with input dtype int64 was converted to float64 by the normalize function.\n",
      "  warnings.warn(msg, _DataConversionWarning)\n"
     ]
    },
    {
     "name": "stdout",
     "output_type": "stream",
     "text": [
      "\n",
      "cost= 4.00: [ 0.99462473  0.99343022  0.99452518  0.99402747  0.99442509]\n",
      "\n",
      "cost= 1.00: [ 0.99402747  0.99293251  0.99362931  0.99392793  0.99352912]\n",
      "\n",
      "cost= 0.25: [ 0.99323114  0.99104121  0.99263388  0.99253434  0.99203584]\n",
      "\n",
      "cost= 100.00: [ 0.99512244  0.99303205  0.99482381  0.99442564  0.99362867]\n",
      "\n",
      "cost= 1000.00: [ 0.99532152  0.9924348   0.99452518  0.99502289  0.99402688]\n",
      "\n",
      "cost= 100000.00: [ 0.99482381  0.99263388  0.99372885  0.99412702  0.99352912]\n",
      "--------------------------------------------------------------------------------\n"
     ]
    }
   ],
   "source": [
    "for head in heads:\n",
    "    print('## dataset = %s ##' % head)\n",
    "    x, y, x_words, vocabs = load_data(head, directory)\n",
    "    x = normalize(x)\n",
    "    for cost in [4.0, 1.0, 0.25, 100.0, 1000.0, 100000.0]:\n",
    "        classifier = LogisticRegression(penalty='l2', C=cost)\n",
    "        scores = cross_val_score(classifier, x, y, cv=n_cv)\n",
    "        print('\\ncost= %.2f: %s' % (cost, scores))\n",
    "\n",
    "        performances[('Logistic + L2 (C=%.2f) norm' % cost, head)] = scores\n",
    "        classifier.fit(x, y)\n",
    "        model_name = 'Logistic + L2 (C=%.2f) norm ' % cost + head\n",
    "        with open('../models/%s.pkl' % model_name, 'wb') as f:\n",
    "            pickle.dump(classifier, f)\n",
    "            \n",
    "    print('-'*80)"
   ]
  },
  {
   "cell_type": "markdown",
   "metadata": {
    "collapsed": true
   },
   "source": [
    "## Logistic Regression + L1"
   ]
  },
  {
   "cell_type": "code",
   "execution_count": 4,
   "metadata": {
    "collapsed": false
   },
   "outputs": [
    {
     "name": "stdout",
     "output_type": "stream",
     "text": [
      "## dataset = l30_r15 ##\n",
      "x shape = (15105, 2770)\n",
      "y shape = (15105,)\n",
      "# features = 2770\n",
      "# L words = 15105\n"
     ]
    },
    {
     "name": "stderr",
     "output_type": "stream",
     "text": [
      "/home/lovit/anaconda2/envs/jupyter_server_py3/lib/python3.5/site-packages/sklearn/utils/validation.py:429: DataConversionWarning: Data with input dtype int64 was converted to float64 by the normalize function.\n",
      "  warnings.warn(msg, _DataConversionWarning)\n"
     ]
    },
    {
     "name": "stdout",
     "output_type": "stream",
     "text": [
      "\n",
      "cost=4.00: [ 0.99636003  0.99702085  0.99702085  0.99569679  0.99271523]\n",
      "\n",
      "cost=1.00: [ 0.99536731  0.99602781  0.99635882  0.99536577  0.99172185]\n",
      "\n",
      "cost=0.25: [ 0.99470549  0.99470374  0.99536577  0.99404171  0.99072848]\n",
      "--------------------------------------------------------------------------------\n",
      "## dataset = l10_r10 ##\n",
      "x shape = (31544, 3515)\n",
      "y shape = (31544,)\n",
      "# features = 3515\n",
      "# L words = 31544\n"
     ]
    },
    {
     "name": "stderr",
     "output_type": "stream",
     "text": [
      "/home/lovit/anaconda2/envs/jupyter_server_py3/lib/python3.5/site-packages/sklearn/utils/validation.py:429: DataConversionWarning: Data with input dtype int64 was converted to float64 by the normalize function.\n",
      "  warnings.warn(msg, _DataConversionWarning)\n"
     ]
    },
    {
     "name": "stdout",
     "output_type": "stream",
     "text": [
      "\n",
      "cost=4.00: [ 0.99667142  0.99492788  0.99492788  0.99635441  0.99508561]\n",
      "\n",
      "cost=1.00: [ 0.99524489  0.99492788  0.99381835  0.99508638  0.99492708]\n",
      "\n",
      "cost=0.25: [ 0.99365985  0.99365985  0.99096529  0.99381835  0.99445149]\n",
      "--------------------------------------------------------------------------------\n",
      "## dataset = l5_r5 ##\n",
      "x shape = (50229, 5361)\n",
      "y shape = (50229,)\n",
      "# features = 5361\n",
      "# L words = 50229\n"
     ]
    },
    {
     "name": "stderr",
     "output_type": "stream",
     "text": [
      "/home/lovit/anaconda2/envs/jupyter_server_py3/lib/python3.5/site-packages/sklearn/utils/validation.py:429: DataConversionWarning: Data with input dtype int64 was converted to float64 by the normalize function.\n",
      "  warnings.warn(msg, _DataConversionWarning)\n"
     ]
    },
    {
     "name": "stdout",
     "output_type": "stream",
     "text": [
      "\n",
      "cost=4.00: [ 0.99442564  0.99253434  0.9943261   0.99422656  0.99342957]\n",
      "\n",
      "cost=1.00: [ 0.99402747  0.99263388  0.99402747  0.99372885  0.99372822]\n",
      "\n",
      "cost=0.25: [ 0.99283297  0.99114075  0.99283297  0.99263388  0.99283225]\n",
      "--------------------------------------------------------------------------------\n"
     ]
    }
   ],
   "source": [
    "import pickle\n",
    "\n",
    "for head in heads:    \n",
    "    print('## dataset = %s ##' % head)\n",
    "    x, y, x_words, vocabs = load_data(head, directory)\n",
    "    x = normalize(x)\n",
    "    for cost in [4, 1, 0.25]:\n",
    "        classifier = LogisticRegression(penalty='l1', C=cost, n_jobs=4)\n",
    "        scores = cross_val_score(classifier, x, y, cv=n_cv)\n",
    "        print('\\ncost=%.2f: %s' % (cost, scores))\n",
    "        \n",
    "        performances[('Logistic + L1 (C=%.2f) norm' % cost, head)] = scores        \n",
    "        model_name = 'Logistic + L1 (C=%.2f) norm ' % cost + head\n",
    "        classifier.fit(x, y)\n",
    "        with open('../models/%s.pkl' % model_name, 'wb') as f:\n",
    "            pickle.dump(classifier, f)   \n",
    "        with open('performance_logistic_regression_norm.pkl', 'wb') as f:\n",
    "            pickle.dump(performances, f)    \n",
    "        \n",
    "    print('-'*80)"
   ]
  },
  {
   "cell_type": "code",
   "execution_count": null,
   "metadata": {
    "collapsed": true
   },
   "outputs": [],
   "source": []
  }
 ],
 "metadata": {
  "kernelspec": {
   "display_name": "Python 3",
   "language": "python",
   "name": "python3"
  },
  "language_info": {
   "codemirror_mode": {
    "name": "ipython",
    "version": 3
   },
   "file_extension": ".py",
   "mimetype": "text/x-python",
   "name": "python",
   "nbconvert_exporter": "python",
   "pygments_lexer": "ipython3",
   "version": "3.5.2"
  }
 },
 "nbformat": 4,
 "nbformat_minor": 0
}
