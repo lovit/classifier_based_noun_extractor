{
 "cells": [
  {
   "cell_type": "code",
   "execution_count": 1,
   "metadata": {
    "collapsed": false
   },
   "outputs": [],
   "source": [
    "from sklearn.linear_model import LogisticRegression\n",
    "from sklearn.model_selection import cross_val_score\n",
    "from sklearn.preprocessing import normalize\n",
    "from py.utils import load_data\n",
    "import pickle"
   ]
  },
  {
   "cell_type": "code",
   "execution_count": 2,
   "metadata": {
    "collapsed": true
   },
   "outputs": [],
   "source": [
    "heads = ['l30_r15', 'l10_r10', 'l5_r5']\n",
    "directory = '../data/'\n",
    "n_cv = 5\n",
    "performances = {}"
   ]
  },
  {
   "cell_type": "markdown",
   "metadata": {},
   "source": [
    "## Logistic Regression  + L2"
   ]
  },
  {
   "cell_type": "code",
   "execution_count": 3,
   "metadata": {
    "collapsed": false
   },
   "outputs": [
    {
     "name": "stdout",
     "output_type": "stream",
     "text": [
      "## dataset = l30_r15 ##\n",
      "x shape = (15166, 2617)\n",
      "y shape = (15166,)\n",
      "# features = 2617\n",
      "# L words = 15166\n"
     ]
    },
    {
     "name": "stderr",
     "output_type": "stream",
     "text": [
      "/home/lovit/anaconda2/envs/jupyter_server_py3/lib/python3.5/site-packages/sklearn/utils/validation.py:429: DataConversionWarning: Data with input dtype int64 was converted to float64 by the normalize function.\n",
      "  warnings.warn(msg, _DataConversionWarning)\n"
     ]
    },
    {
     "name": "stdout",
     "output_type": "stream",
     "text": [
      "\n",
      "cost= 4.00: [ 0.99241925  0.98944939  0.98944939  0.9901088   0.99109792]\n",
      "\n",
      "cost= 1.00: [ 0.99143045  0.98911968  0.98911968  0.99043851  0.99076822]\n",
      "\n",
      "cost= 0.25: [ 0.99110086  0.98747115  0.98813056  0.98878998  0.98944939]\n",
      "\n",
      "cost= 100.00: [ 0.99208965  0.98911968  0.98780086  0.99076822  0.9901088 ]\n",
      "\n",
      "cost= 1000.00: [ 0.99110086  0.98878998  0.98813056  0.99142763  0.98944939]\n",
      "\n",
      "cost= 100000.00: [ 0.98681608  0.98351467  0.98780086  0.98944939  0.9848335 ]\n",
      "--------------------------------------------------------------------------------\n",
      "## dataset = l10_r10 ##\n",
      "x shape = (31797, 3297)\n",
      "y shape = (31797,)\n",
      "# features = 3297\n",
      "# L words = 31797\n"
     ]
    },
    {
     "name": "stderr",
     "output_type": "stream",
     "text": [
      "/home/lovit/anaconda2/envs/jupyter_server_py3/lib/python3.5/site-packages/sklearn/utils/validation.py:429: DataConversionWarning: Data with input dtype int64 was converted to float64 by the normalize function.\n",
      "  warnings.warn(msg, _DataConversionWarning)\n"
     ]
    },
    {
     "name": "stdout",
     "output_type": "stream",
     "text": [
      "\n",
      "cost= 4.00: [ 0.98632075  0.98726415  0.98741941  0.98584683  0.98584683]\n",
      "\n",
      "cost= 1.00: [ 0.98569182  0.98663522  0.98694763  0.98600409  0.98506054]\n",
      "\n",
      "cost= 0.25: [ 0.9836478   0.98569182  0.98584683  0.98458877  0.98348797]\n",
      "\n",
      "cost= 100.00: [ 0.98726415  0.98836478  0.98773392  0.98663312  0.98694763]\n",
      "\n",
      "cost= 1000.00: [ 0.98553459  0.98773585  0.98616135  0.98553232  0.98616135]\n",
      "\n",
      "cost= 100000.00: [ 0.98490566  0.98616352  0.98600409  0.98380248  0.98270168]\n",
      "--------------------------------------------------------------------------------\n",
      "## dataset = l5_r5 ##\n",
      "x shape = (50764, 4995)\n",
      "y shape = (50764,)\n",
      "# features = 4995\n",
      "# L words = 50764\n"
     ]
    },
    {
     "name": "stderr",
     "output_type": "stream",
     "text": [
      "/home/lovit/anaconda2/envs/jupyter_server_py3/lib/python3.5/site-packages/sklearn/utils/validation.py:429: DataConversionWarning: Data with input dtype int64 was converted to float64 by the normalize function.\n",
      "  warnings.warn(msg, _DataConversionWarning)\n"
     ]
    },
    {
     "name": "stdout",
     "output_type": "stream",
     "text": [
      "\n",
      "cost= 4.00: [ 0.98384714  0.98325618  0.9844381   0.98355166  0.98256501]\n",
      "\n",
      "cost= 1.00: [ 0.98236974  0.98236974  0.98404412  0.98236974  0.98118597]\n",
      "\n",
      "cost= 0.25: [ 0.98049837  0.98030139  0.98187728  0.98089235  0.9784279 ]\n",
      "\n",
      "cost= 100.00: [ 0.98532453  0.98266522  0.98384714  0.98266522  0.98335303]\n",
      "\n",
      "cost= 1000.00: [ 0.98512755  0.98236974  0.98355166  0.98197577  0.98355004]\n",
      "\n",
      "cost= 100000.00: [ 0.98335467  0.98118783  0.98355166  0.98168029  0.98246651]\n",
      "--------------------------------------------------------------------------------\n"
     ]
    }
   ],
   "source": [
    "for head in heads:\n",
    "    print('## dataset = %s ##' % head)\n",
    "    x, y, x_words, vocabs = load_data(head, directory)\n",
    "    x = normalize(x)\n",
    "    for cost in [4.0, 1.0, 0.25, 100.0, 1000.0, 100000.0]:\n",
    "        classifier = LogisticRegression(penalty='l2', C=cost)\n",
    "        scores = cross_val_score(classifier, x, y, cv=n_cv)\n",
    "        print('\\ncost= %.2f: %s' % (cost, scores))\n",
    "\n",
    "        performances[('Logistic + L2 (C=%.2f) norm' % cost, head)] = scores\n",
    "        classifier.fit(x, y)\n",
    "        model_name = 'Logistic + L2 (C=%.2f) norm ' % cost + head\n",
    "        with open('../models/%s.pkl' % model_name, 'wb') as f:\n",
    "            pickle.dump(classifier, f)\n",
    "            \n",
    "    print('-'*80)"
   ]
  },
  {
   "cell_type": "markdown",
   "metadata": {
    "collapsed": true
   },
   "source": [
    "## Logistic Regression + L1"
   ]
  },
  {
   "cell_type": "code",
   "execution_count": 4,
   "metadata": {
    "collapsed": false
   },
   "outputs": [
    {
     "name": "stdout",
     "output_type": "stream",
     "text": [
      "## dataset = l30_r15 ##\n",
      "x shape = (15166, 2617)\n",
      "y shape = (15166,)\n",
      "# features = 2617\n",
      "# L words = 15166\n"
     ]
    },
    {
     "name": "stderr",
     "output_type": "stream",
     "text": [
      "/home/lovit/anaconda2/envs/jupyter_server_py3/lib/python3.5/site-packages/sklearn/utils/validation.py:429: DataConversionWarning: Data with input dtype int64 was converted to float64 by the normalize function.\n",
      "  warnings.warn(msg, _DataConversionWarning)\n"
     ]
    },
    {
     "name": "stdout",
     "output_type": "stream",
     "text": [
      "\n",
      "cost=4.00: [ 0.99176005  0.98911968  0.98780086  0.9897791   0.99043851]\n",
      "\n",
      "cost=1.00: [ 0.99077126  0.98813056  0.98681174  0.98944939  0.99076822]\n",
      "\n",
      "cost=0.25: [ 0.98912327  0.98582262  0.98648203  0.98911968  0.99076822]\n",
      "--------------------------------------------------------------------------------\n",
      "## dataset = l10_r10 ##\n",
      "x shape = (31797, 3297)\n",
      "y shape = (31797,)\n",
      "# features = 3297\n",
      "# L words = 31797\n"
     ]
    },
    {
     "name": "stderr",
     "output_type": "stream",
     "text": [
      "/home/lovit/anaconda2/envs/jupyter_server_py3/lib/python3.5/site-packages/sklearn/utils/validation.py:429: DataConversionWarning: Data with input dtype int64 was converted to float64 by the normalize function.\n",
      "  warnings.warn(msg, _DataConversionWarning)\n"
     ]
    },
    {
     "name": "stdout",
     "output_type": "stream",
     "text": [
      "\n",
      "cost=4.00: [ 0.98647799  0.98663522  0.98663312  0.98694763  0.98663312]\n",
      "\n",
      "cost=1.00: [ 0.98569182  0.98632075  0.9863186   0.98584683  0.98663312]\n",
      "\n",
      "cost=0.25: [ 0.98459119  0.98537736  0.98506054  0.98490329  0.984117  ]\n",
      "--------------------------------------------------------------------------------\n",
      "## dataset = l5_r5 ##\n",
      "x shape = (50764, 4995)\n",
      "y shape = (50764,)\n",
      "# features = 4995\n",
      "# L words = 50764\n"
     ]
    },
    {
     "name": "stderr",
     "output_type": "stream",
     "text": [
      "/home/lovit/anaconda2/envs/jupyter_server_py3/lib/python3.5/site-packages/sklearn/utils/validation.py:429: DataConversionWarning: Data with input dtype int64 was converted to float64 by the normalize function.\n",
      "  warnings.warn(msg, _DataConversionWarning)\n"
     ]
    },
    {
     "name": "stdout",
     "output_type": "stream",
     "text": [
      "\n",
      "cost=4.00: [ 0.98404412  0.98355166  0.98374865  0.98345317  0.982171  ]\n",
      "\n",
      "cost=1.00: [ 0.98424111  0.98246824  0.98374865  0.98394563  0.98148148]\n",
      "\n",
      "cost=0.25: [ 0.98325618  0.98049837  0.9829607   0.98325618  0.97970843]\n",
      "--------------------------------------------------------------------------------\n"
     ]
    }
   ],
   "source": [
    "import pickle\n",
    "\n",
    "for head in heads:    \n",
    "    print('## dataset = %s ##' % head)\n",
    "    x, y, x_words, vocabs = load_data(head, directory)\n",
    "    x = normalize(x)\n",
    "    for cost in [4, 1, 0.25]:\n",
    "        classifier = LogisticRegression(penalty='l1', C=cost, n_jobs=4)\n",
    "        scores = cross_val_score(classifier, x, y, cv=n_cv)\n",
    "        print('\\ncost=%.2f: %s' % (cost, scores))\n",
    "        \n",
    "        performances[('Logistic + L1 (C=%.2f) norm' % cost, head)] = scores        \n",
    "        model_name = 'Logistic + L1 (C=%.2f) norm ' % cost + head\n",
    "        classifier.fit(x, y)\n",
    "        with open('../models/%s.pkl' % model_name, 'wb') as f:\n",
    "            pickle.dump(classifier, f)   \n",
    "        with open('performance_logistic_regression_norm.pkl', 'wb') as f:\n",
    "            pickle.dump(performances, f)    \n",
    "        \n",
    "    print('-'*80)"
   ]
  },
  {
   "cell_type": "code",
   "execution_count": null,
   "metadata": {
    "collapsed": true
   },
   "outputs": [],
   "source": []
  }
 ],
 "metadata": {
  "kernelspec": {
   "display_name": "Python 3",
   "language": "python",
   "name": "python3"
  },
  "language_info": {
   "codemirror_mode": {
    "name": "ipython",
    "version": 3
   },
   "file_extension": ".py",
   "mimetype": "text/x-python",
   "name": "python",
   "nbconvert_exporter": "python",
   "pygments_lexer": "ipython3",
   "version": "3.5.2"
  }
 },
 "nbformat": 4,
 "nbformat_minor": 0
}
