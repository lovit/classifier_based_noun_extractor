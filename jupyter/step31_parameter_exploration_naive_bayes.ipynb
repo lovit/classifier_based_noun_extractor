{
 "cells": [
  {
   "cell_type": "markdown",
   "metadata": {},
   "source": [
    "일반화 성능도 있기 때문에 전체 데이터셋에 대해서 성능 평가를 해봐야 함"
   ]
  },
  {
   "cell_type": "code",
   "execution_count": 1,
   "metadata": {
    "collapsed": false
   },
   "outputs": [
    {
     "name": "stdout",
     "output_type": "stream",
     "text": [
      "x shape = (15106, 2770)\n",
      "y shape = (15106,)\n",
      "# features = 2770\n",
      "# L words = 15106\n"
     ]
    }
   ],
   "source": [
    "import pickle\n",
    "with open('../models/BernoulliNB norm l30_r15.pkl', 'rb') as f:\n",
    "    classifier = pickle.load(f)\n",
    "    \n",
    "from py.utils import load_data\n",
    "head = 'l30_r15'\n",
    "directory = '../data/'\n",
    "x, y, x_words, vocabs = load_data(head, directory)"
   ]
  },
  {
   "cell_type": "code",
   "execution_count": 2,
   "metadata": {
    "collapsed": false
   },
   "outputs": [
    {
     "data": {
      "text/plain": [
       "matrix([[  88],\n",
       "        [  61],\n",
       "        [2198],\n",
       "        ..., \n",
       "        [ 224],\n",
       "        [  57],\n",
       "        [ 448]])"
      ]
     },
     "execution_count": 2,
     "metadata": {},
     "output_type": "execute_result"
    }
   ],
   "source": [
    "word_frequency = x.sum(axis=1)\n",
    "word_frequency"
   ]
  },
  {
   "cell_type": "code",
   "execution_count": 3,
   "metadata": {
    "collapsed": true
   },
   "outputs": [],
   "source": [
    "def get_sample_l(ri, topk=5):\n",
    "    nonzero = x[:,ri].nonzero()[0]\n",
    "    base = min(50, len(nonzero)//2)\n",
    "    return [x_words[l] for l in sorted(nonzero, key=lambda x:word_frequency[x,0], reverse=True)[base:base+topk]]"
   ]
  },
  {
   "cell_type": "markdown",
   "metadata": {},
   "source": [
    "coefficient = log prob\n",
    "\n",
    "==> exp(coefficient) = prob"
   ]
  },
  {
   "cell_type": "code",
   "execution_count": 4,
   "metadata": {
    "collapsed": false
   },
   "outputs": [
    {
     "data": {
      "text/plain": [
       "array([ 0.16589435,  0.83410565])"
      ]
     },
     "execution_count": 4,
     "metadata": {},
     "output_type": "execute_result"
    }
   ],
   "source": [
    "import numpy as np\n",
    "np.exp(classifier.class_log_prior_)"
   ]
  },
  {
   "cell_type": "code",
   "execution_count": 5,
   "metadata": {
    "collapsed": false,
    "scrolled": false
   },
   "outputs": [
    {
     "name": "stdout",
     "output_type": "stream",
     "text": [
      "['몸', '무엇', '얘기', '아버지', '모습'] - 의 (logp= -0.192, p= 0.826)\n",
      "['여자', '몸', '무엇', '얘기', '아버지'] - 에 (logp= -0.266, p= 0.767)\n",
      "['사회', '여기', '지금', '이야기', '안'] - 도 (logp= -0.560, p= 0.571)\n",
      "['죽', '다음', '이상', '아이들', '삶'] - 을 (logp= -0.593, p= 0.552)\n",
      "['책', '이름', '이들', '세상', '한국'] - 이 (logp= -0.604, p= 0.546)\n",
      "['모습', '길', '죽', '다음', '이상'] - 은 (logp= -0.686, p= 0.504)\n",
      "['밖', '쪽', '물', '적', '글'] - 과 (logp= -0.803, p= 0.448)\n",
      "['얘기', '아버지', '모습', '길', '자리'] - 에서 (logp= -0.860, p= 0.423)\n",
      "['명', '끝', '주장', '뜻', '입'] - 으로 (logp= -1.010, p= 0.364)\n",
      "['예', '역사', '시', '존재', '머리'] - 를 (logp= -1.012, p= 0.364)\n",
      "['나가', '누구', '문화', '예', '역사'] - 가 (logp= -1.031, p= 0.357)\n",
      "['글', '개', '남자', '학교', '생활'] - 로 (logp= -1.077, p= 0.341)\n",
      "['자리', '삶', '뒤', '나라', '정부'] - 는 (logp= -1.087, p= 0.337)\n",
      "['예', '역사', '시', '존재', '머리'] - 와 (logp= -1.180, p= 0.307)\n",
      "['아버지', '모습', '길', '자리', '다음'] - 인 (logp= -1.227, p= 0.293)\n",
      "['내용', '책', '이름', '이들', '세상'] - 이나 (logp= -1.295, p= 0.274)\n",
      "['자기', '사랑', '데', '미국', '관계'] - 하고 (logp= -1.419, p= 0.242)\n",
      "['몸', '무엇', '얘기', '아버지', '모습'] - 만 (logp= -1.425, p= 0.240)\n",
      "['나라', '정부', '자기', '사랑', '데'] - 에는 (logp= -1.426, p= 0.240)\n",
      "['길', '자리', '다음', '이상', '아이들'] - 까지 (logp= -1.491, p= 0.225)\n",
      "['전화', '의식', '평가', '결정', '결혼'] - 한 (logp= -1.590, p= 0.204)\n",
      "['해결', '입장', '행동', '전화', '의식'] - 하는 (logp= -1.604, p= 0.201)\n",
      "['이상', '아이들', '삶', '뒤', '돈'] - 처럼 (logp= -1.639, p= 0.194)\n",
      "['죽', '자리', '뒤', '나라', '정부'] - 나 (logp= -1.663, p= 0.190)\n",
      "['의식', '평가', '결정', '결혼', '시장'] - 할 (logp= -1.665, p= 0.189)\n",
      "['글', '처음', '생활', '상황', '명'] - 이라는 (logp= -1.813, p= 0.163)\n",
      "['당신', '너', '남', '씨', '죽음'] - 에게 (logp= -1.833, p= 0.160)\n",
      "['길', '자리', '이상', '아이들', '삶'] - 보다 (logp= -1.834, p= 0.160)\n",
      "['사랑', '데', '미국', '방법', '관계'] - 에도 (logp= -1.845, p= 0.158)\n",
      "['기능', '기억', '확인', '포함', '유지'] - 해 (logp= -1.854, p= 0.157)\n",
      "['방법', '관계', '힘', '이해', '내용'] - 에서는 (logp= -1.875, p= 0.153)\n",
      "['물', '적', '글', '처음', '생활'] - 이라고 (logp= -1.966, p= 0.140)\n",
      "['포함', '유지', '참여', '듯', '신문'] - 하여 (logp= -2.020, p= 0.133)\n",
      "['자리', '다음', '이상', '아이들', '삶'] - 일 (logp= -2.059, p= 0.128)\n",
      "['유지', '참여', '듯', '조사', '경험'] - 하지 (logp= -2.130, p= 0.119)\n",
      "['포함', '유지', '참여', '듯', '조사'] - 하기 (logp= -2.135, p= 0.118)\n",
      "['듯', '조사', '경험', '구성', '준비'] - 하게 (logp= -2.140, p= 0.118)\n",
      "['세계', '어디', '시대', '변화', '개'] - 라는 (logp= -2.147, p= 0.117)\n",
      "['발전', '표현', '관심', '역할', '남편'] - 이란 (logp= -2.154, p= 0.116)\n",
      "['기술', '형성', '기록', '선택', '발생'] - 된 (logp= -2.171, p= 0.114)\n",
      "['삶', '뒤', '돈', '나라', '데'] - 이고 (logp= -2.255, p= 0.105)\n",
      "['적', '글', '처음', '생활', '상황'] - 이라 (logp= -2.312, p= 0.099)\n",
      "['방법', '관계', '힘', '이해', '내용'] - 이며 (logp= -2.337, p= 0.097)\n",
      "['이들', '세상', '한국', '시대', '과정'] - 에서도 (logp= -2.354, p= 0.095)\n",
      "['준비', '제시', '인정', '기술', '형성'] - 해야 (logp= -2.379, p= 0.093)\n",
      "['내', '이해', '아이', '이유', '세계'] - 라고 (logp= -2.395, p= 0.091)\n",
      "['노래', '형성', '기록', '선택', '발생'] - 하면서 (logp= -2.425, p= 0.088)\n",
      "['나라', '정부', '자기', '사랑', '데'] - 보다는 (logp= -2.429, p= 0.088)\n",
      "['기록', '선택', '발생', '계속', '개발'] - 되는 (logp= -2.436, p= 0.088)\n",
      "['조사', '경험', '구성', '준비', '제시'] - 해서 (logp= -2.466, p= 0.085)\n",
      "['유지', '참여', '듯', '조사', '구성'] - 하며 (logp= -2.485, p= 0.083)\n",
      "['힘', '이해', '아이', '이유', '내용'] - 만을 (logp= -2.486, p= 0.083)\n",
      "['지적', '진행', '발표', '논의', '제공'] - 되어 (logp= -2.493, p= 0.083)\n",
      "['정부', '자기', '사랑', '방법', '관계'] - 만이 (logp= -2.534, p= 0.079)\n",
      "['계획', '교수', '지적', '진행', '반대'] - 되고 (logp= -2.545, p= 0.078)\n",
      "['유지', '참여', '듯', '조사', '경험'] - 했던 (logp= -2.549, p= 0.078)\n",
      "['데', '방법', '이해', '내용', '책'] - 부터 (logp= -2.550, p= 0.078)\n",
      "['기대', '계획', '프로그램', '지적', '진행'] - 될 (logp= -2.557, p= 0.078)\n",
      "['자체', '거기', '누구', '문화', '예'] - 로부터 (logp= -2.566, p= 0.077)\n",
      "['듯', '조사', '경험', '구성', '준비'] - 하면 (logp= -2.588, p= 0.075)\n",
      "['주장', '뜻', '발전', '표현', '관심'] - 과는 (logp= -2.619, p= 0.073)\n",
      "['인정', '기술', '노래', '형성', '기록'] - 한다는 (logp= -2.649, p= 0.071)\n",
      "['나라', '정부', '사랑', '방법', '관계'] - 이기 (logp= -2.687, p= 0.068)\n",
      "['상황', '명', '끝', '주장', '뜻'] - 이라도 (logp= -2.713, p= 0.066)\n",
      "['과정', '일본', '밖', '쪽', '물'] - 에다 (logp= -2.746, p= 0.064)\n",
      "['날', '엄마', '현실', '너', '소설'] - 로서 (logp= -2.747, p= 0.064)\n",
      "['저', '지', '나가', '타', '누구'] - 란 (logp= -2.762, p= 0.063)\n",
      "['사건', '대상', '활동', '당신', '땅'] - 으로부터 (logp= -2.766, p= 0.063)\n",
      "['계속', '개발', '대답', '지적', '진행'] - 함으로써 (logp= -2.768, p= 0.063)\n",
      "['발생', '계속', '개발', '대답', '다양'] - 하거나 (logp= -2.797, p= 0.061)\n",
      "['거기', '상황', '끝', '뜻', '예'] - 에서의 (logp= -2.828, p= 0.059)\n",
      "['시대', '변화', '일본', '밖', '쪽'] - 엔 (logp= -2.830, p= 0.059)\n",
      "['책', '이름', '세계', '세상', '한국'] - 에만 (logp= -2.843, p= 0.058)\n",
      "['방법', '관계', '힘', '아이', '내용'] - 인데 (logp= -2.854, p= 0.058)\n",
      "['땅', '남', '죽음', '문학', '자연'] - 과의 (logp= -2.875, p= 0.056)\n",
      "['기록', '발생', '계속', '개발', '대답'] - 하던 (logp= -2.876, p= 0.056)\n",
      "['회사', '작가', '아들', '개인', '의사'] - 에게는 (logp= -2.898, p= 0.055)\n",
      "['판단', '분석', '걱정', '규정', '확대'] - 되지 (logp= -2.931, p= 0.053)\n",
      "['이름', '세계', '세상', '시대', '과정'] - 이기도 (logp= -2.954, p= 0.052)\n",
      "['과정', '변화', '물', '글', '학교'] - 조차 (logp= -2.965, p= 0.052)\n",
      "['형성', '기록', '선택', '발생', '개발'] - 하기도 (logp= -2.966, p= 0.051)\n",
      "['생활', '상황', '명', '저', '주장'] - 이지만 (logp= -2.974, p= 0.051)\n",
      "['한국', '과정', '변화', '글', '개'] - 마저 (logp= -2.975, p= 0.051)\n",
      "['교육', '지역', '운동', '영향', '노력'] - 으로는 (logp= -2.990, p= 0.050)\n",
      "['나가', '타', '누구', '문화', '예'] - 라 (logp= -2.996, p= 0.050)\n",
      "['지적', '반대', '발표', '지원', '제공'] - 했다는 (logp= -3.023, p= 0.049)\n",
      "['세상', '한국', '변화', '일본', '쪽'] - 인지 (logp= -3.038, p= 0.048)\n",
      "['뭐', '아내', '후', '목소리', '영화'] - 라도 (logp= -3.043, p= 0.048)\n",
      "['상황', '누구', '주장', '문화', '뜻'] - 임을 (logp= -3.048, p= 0.047)\n",
      "['대답', '기대', '계획', '전쟁', '지적'] - 했을 (logp= -3.061, p= 0.047)\n",
      "['날', '사건', '대상', '활동', '현실'] - 이라면 (logp= -3.073, p= 0.046)\n",
      "['세계', '세상', '시대', '변화', '쪽'] - 까지도 (logp= -3.073, p= 0.046)\n",
      "['책', '이름', '이들', '세상', '일본'] - 두 (logp= -3.080, p= 0.046)\n",
      "['이전', '차지', '강조', '성공', '연결'] - 하려는 (logp= -3.091, p= 0.045)\n",
      "['발생', '계속', '개발', '다양', '계획'] - 하도록 (logp= -3.094, p= 0.045)\n",
      "['부분', '기업', '선생님', '현상', '대통령'] - 으로서 (logp= -3.096, p= 0.045)\n",
      "['반대', '발표', '논의', '지원', '제공'] - 했다고 (logp= -3.124, p= 0.044)\n",
      "['의사', '교수', '우리들', '환자', '우리나라'] - 한테 (logp= -3.124, p= 0.044)\n",
      "['파악', '조직', '발달', '방송', '실시'] - 돼 (logp= -3.130, p= 0.044)\n",
      "['현실', '소설', '남', '죽음', '문학'] - 이었던 (logp= -3.130, p= 0.044)\n"
     ]
    }
   ],
   "source": [
    "import numpy as np\n",
    "\n",
    "base = 0\n",
    "topk = 100\n",
    "for r, coef in sorted(enumerate(classifier.coef_[0]), key=lambda x:x[1], reverse=True)[base :base + topk]:\n",
    "    print('%s - %s (logp= %.3f, p= %.3f)' % (get_sample_l(r), vocabs[r], coef, np.exp(coef)))"
   ]
  },
  {
   "cell_type": "markdown",
   "metadata": {
    "collapsed": true
   },
   "source": [
    "## BernoulliNB classifier code\n",
    "\n",
    "    def _joint_log_likelihood(self, X):\n",
    "        \"\"\"Calculate the posterior log probability of the samples X\"\"\"\n",
    "        check_is_fitted(self, \"classes_\")\n",
    "\n",
    "        X = check_array(X, accept_sparse='csr')\n",
    "\n",
    "        if self.binarize is not None:\n",
    "            X = binarize(X, threshold=self.binarize)\n",
    "\n",
    "        n_classes, n_features = self.feature_log_prob_.shape\n",
    "        n_samples, n_features_X = X.shape\n",
    "\n",
    "        if n_features_X != n_features:\n",
    "            raise ValueError(\"Expected input with %d features, got %d instead\"\n",
    "                             % (n_features, n_features_X))\n",
    "\n",
    "        neg_prob = np.log(1 - np.exp(self.feature_log_prob_))\n",
    "        # Compute  neg_prob · (1 - X).T  as  ∑neg_prob - X · neg_prob\n",
    "        jll = safe_sparse_dot(X, (self.feature_log_prob_ - neg_prob).T)\n",
    "        jll += self.class_log_prior_ + neg_prob.sum(axis=1)\n",
    "\n",
    "        return jll"
   ]
  },
  {
   "cell_type": "markdown",
   "metadata": {},
   "source": [
    "### Bernoulli Naive Bayes 역시 infrequent feature가 low scale\n",
    "\n",
    "classification rule: $ P(x_i \\mid y) = P(i \\mid y) x_i + (1 - P(i \\mid y)) (1 - x_i) $\n",
    "\n",
    "class y에서 feature i의 생성확률을 만들기 때문에 infrequent 한 feature가 작은 coefficient를 지님"
   ]
  },
  {
   "cell_type": "code",
   "execution_count": 6,
   "metadata": {
    "collapsed": false
   },
   "outputs": [
    {
     "data": {
      "text/plain": [
       "0.0011109347722583723"
      ]
     },
     "execution_count": 6,
     "metadata": {},
     "output_type": "execute_result"
    }
   ],
   "source": [
    "np.exp(classifier.coef_[0,vocabs.index('해줌으로써')])"
   ]
  },
  {
   "cell_type": "code",
   "execution_count": null,
   "metadata": {
    "collapsed": true
   },
   "outputs": [],
   "source": []
  }
 ],
 "metadata": {
  "kernelspec": {
   "display_name": "Python 3",
   "language": "python",
   "name": "python3"
  },
  "language_info": {
   "codemirror_mode": {
    "name": "ipython",
    "version": 3
   },
   "file_extension": ".py",
   "mimetype": "text/x-python",
   "name": "python",
   "nbconvert_exporter": "python",
   "pygments_lexer": "ipython3",
   "version": "3.5.2"
  }
 },
 "nbformat": 4,
 "nbformat_minor": 0
}
