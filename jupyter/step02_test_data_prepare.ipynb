{
 "cells": [
  {
   "cell_type": "code",
   "execution_count": 1,
   "metadata": {
    "collapsed": false
   },
   "outputs": [
    {
     "data": {
      "text/plain": [
       "479"
      ]
     },
     "execution_count": 1,
     "metadata": {},
     "output_type": "execute_result"
    }
   ],
   "source": [
    "from config import sejong_directory\n",
    "from config import sentence_fname\n",
    "from config import sentence_tagged_fname\n",
    "\n",
    "from glob import glob\n",
    "fnames = glob('%s/modern_spoken/*.txt' % sejong_directory)\n",
    "fnames += glob('%s/modern_writen/*.txt' % sejong_directory)\n",
    "len(fnames)"
   ]
  },
  {
   "cell_type": "code",
   "execution_count": 2,
   "metadata": {
    "collapsed": false
   },
   "outputs": [
    {
     "name": "stdout",
     "output_type": "stream",
     "text": [
      "… 라는 생각을 하게 되드라구요,\t…/UNC 라는/ETM 생각/NNG+을/JKO 하/VV+게/EC 되/VV+드라구요/EF+,/SP\n",
      "XX 올랐다 그러구,\tXX/UNC 오르/VV+ㅏㅆ/EP+다/EC 그러/VV+구/EC+,/SP\n",
      "또 뭐두 올랐다 그러구,\t또/MAG 뭐/NP+두/JX 오르/VV+ㅏㅆ/EP+다/EC 그러/VV+구/EC+,/SP\n"
     ]
    }
   ],
   "source": [
    "with open(fnames[5], encoding='utf-8') as f:\n",
    "    for _ in range(3):\n",
    "        print(next(f).strip())"
   ]
  },
  {
   "cell_type": "code",
   "execution_count": 3,
   "metadata": {
    "collapsed": false
   },
   "outputs": [
    {
     "name": "stdout",
     "output_type": "stream",
     "text": [
      "done. n_except= 0\n"
     ]
    }
   ],
   "source": [
    "n_except = 0\n",
    "\n",
    "with open(sentence_fname, 'w', encoding='utf-8') as fs:\n",
    "    with open(sentence_tagged_fname, 'w', encoding='utf-8') as ft:\n",
    "        for fname in fnames:\n",
    "            with open(fname, encoding='utf-8') as fi:\n",
    "                for line in fi:\n",
    "                    try:\n",
    "                        sent, tagged = line.strip().split('\\t')\n",
    "                        fs.write('%s\\n' % sent)\n",
    "                        ft.write('%s\\n' % tagged)\n",
    "                    except:\n",
    "                        n_except += 1\n",
    "                        continue\n",
    "                        \n",
    "print('done. n_except= %d' % n_except)"
   ]
  },
  {
   "cell_type": "code",
   "execution_count": null,
   "metadata": {
    "collapsed": true
   },
   "outputs": [],
   "source": []
  }
 ],
 "metadata": {
  "kernelspec": {
   "display_name": "Python 3",
   "language": "python",
   "name": "python3"
  },
  "language_info": {
   "codemirror_mode": {
    "name": "ipython",
    "version": 3
   },
   "file_extension": ".py",
   "mimetype": "text/x-python",
   "name": "python",
   "nbconvert_exporter": "python",
   "pygments_lexer": "ipython3",
   "version": "3.5.2"
  }
 },
 "nbformat": 4,
 "nbformat_minor": 0
}
