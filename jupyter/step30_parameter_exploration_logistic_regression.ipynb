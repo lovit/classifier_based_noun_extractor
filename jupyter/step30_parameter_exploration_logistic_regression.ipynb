{
 "cells": [
  {
   "cell_type": "code",
   "execution_count": 7,
   "metadata": {
    "collapsed": false
   },
   "outputs": [
    {
     "name": "stdout",
     "output_type": "stream",
     "text": [
      "x shape = (15715, 4551)\n",
      "y shape = (15715,)\n",
      "# features = 4551\n",
      "# L words = 15715\n"
     ]
    }
   ],
   "source": [
    "import pickle\n",
    "# with open('../models/Logistic + L2 (C=0.2)l30_r15.pkl', 'rb') as f:\n",
    "with open('../models/Logistic + L1 (C=4.00) norml30_r15.pkl', 'rb') as f:\n",
    "# with open('../models/Logistic + L1 (C=4.0)l30_r15.pkl', 'rb') as f:\n",
    "    classifier = pickle.load(f)\n",
    "    \n",
    "from py.utils import load_data\n",
    "head = 'l30_r15'\n",
    "directory = '../data/'\n",
    "x, y, x_words, vocabs = load_data(head, directory)\n"
   ]
  },
  {
   "cell_type": "code",
   "execution_count": 2,
   "metadata": {
    "collapsed": false
   },
   "outputs": [
    {
     "data": {
      "text/plain": [
       "matrix([[100],\n",
       "        [295],\n",
       "        [104],\n",
       "        ..., \n",
       "        [ 31],\n",
       "        [ 93],\n",
       "        [199]])"
      ]
     },
     "execution_count": 2,
     "metadata": {},
     "output_type": "execute_result"
    }
   ],
   "source": [
    "word_frequency = x.sum(axis=1)\n",
    "word_frequency"
   ]
  },
  {
   "cell_type": "code",
   "execution_count": 3,
   "metadata": {
    "collapsed": true
   },
   "outputs": [],
   "source": [
    "def get_sample_l(ri, topk=5):\n",
    "    nonzero = x[:,ri].nonzero()[0]\n",
    "    base = min(50, len(nonzero)//2)\n",
    "    return [x_words[l] for l in sorted(nonzero, key=lambda x:word_frequency[x,0], reverse=True)[base:base+topk]]"
   ]
  },
  {
   "cell_type": "code",
   "execution_count": 8,
   "metadata": {
    "collapsed": false,
    "scrolled": false
   },
   "outputs": [
    {
     "name": "stdout",
     "output_type": "stream",
     "text": [
      "['변화', '글', '존재', '누구', '시'] - 를 (52.918)\n",
      "['기업', '당신', '엄마', '대상', '국가'] - 에게 (11.954)\n",
      "['어디', '현실', '개', '변화', '글'] - 로 (11.538)\n",
      "['안', '지금', '이상', '모습', '사용'] - 의 (9.572)\n",
      "['사이', '지금', '이상', '모습', '길'] - 만 (9.100)\n",
      "['이름', '여성', '한국', '세상', '과정'] - 으로 (7.870)\n",
      "['발견', '현상', '대답', '인식', '평가'] - 한 (7.335)\n",
      "['존재', '시', '저', '자체', '학교'] - 였다 (6.989)\n",
      "['역사', '정부', '주장', '관계', '내용'] - 들은 (6.404)\n",
      "['기록', '경험', '발생', '조사', '전화'] - 된 (6.061)\n",
      "['몸', '선생', '자리', '사랑', '삶'] - 하고 (5.550)\n",
      "['다음', '세계', '자기', '방법', '나라'] - 까지 (5.481)\n",
      "['평가', '계속', '공부', '확인', '의식'] - 할 (4.875)\n",
      "['국가', '소설', '지역', '자연', '교육'] - 적인 (4.760)\n",
      "['어머니', '중', '이것', '여기', '사이'] - 에 (4.460)\n",
      "['안', '이상', '모습', '사용', '길'] - 에서 (4.322)\n",
      "['몸', '자리', '사랑', '뒤', '삶'] - 에는 (3.888)\n",
      "['역사', '데', '정부', '뭐', '내용'] - 부터 (3.781)\n",
      "['컴퓨터', '경쟁', '조건', '사업', '형식'] - 화 (3.755)\n",
      "['자연', '운동', '교육', '영화', '개인'] - 적 (3.661)\n",
      "['자리', '두', '뒤', '내', '역사'] - 라고 (3.639)\n",
      "['내용', '책', '힘', '뿐', '뜻'] - 이나 (3.488)\n",
      "['시대', '문화', '친구', '어디', '개'] - 가 (3.428)\n",
      "['조사', '전화', '인정', '유지', '구성'] - 되는 (3.417)\n",
      "['강조', '시장', '언어', '준비', '생명'] - 성 (3.010)\n",
      "['지금', '이상', '맞', '모습', '사용'] - 을 (2.957)\n",
      "['과학', '태도', '바', '구조', '반대'] - 론 (2.933)\n",
      "['선생', '사랑', '삶', '돈', '데'] - 이 (2.875)\n",
      "['제한', '유럽', '보장', '안정', '프랑스'] - 형 (2.698)\n",
      "['학급', '열등', '동창', '특기', '중학'] - 생 (2.537)\n",
      "['대표', '기술', '동시', '기능', '상대'] - 적으로 (2.220)\n",
      "['거부', '표시', '접근', '지구', '영어'] - 권 (2.168)\n",
      "['잊', '나타났', '힘들', '끌', '바꾸'] - 어요 (2.142)\n",
      "['쪽', '처음', '물', '상황', '밖'] - 이지 (1.923)\n",
      "['바보', '멋', '수치', '야단', '영광'] - 스럽게 (1.919)\n",
      "['노동', '수사', '인도', '활성', '동일'] - 계 (1.913)\n",
      "['여성', '세상', '현실', '과정', '학생'] - 이었다 (1.905)\n",
      "['아낙', '서방', '금순', '대기', '두환'] - 네는 (1.790)\n",
      "['관련', '노력', '방', '발견', '와'] - 하는 (1.789)\n",
      "['선거', '근무', '경영', '아프', '팀'] - 제 (1.761)\n",
      "['나라', '아버지', '몸', '선생', '자리'] - 처럼 (1.588)\n",
      "['표정', '기대', '느낌', '비판', '분석'] - 없이 (1.543)\n",
      "['동준', '변', '영선', '수영', '선진'] - 이가 (1.488)\n",
      "['기억', '기술', '기능', '상대', '해결'] - 하게 (1.448)\n",
      "['놓', '찾', '어머니', '왔', '크'] - 나 (1.441)\n",
      "['과정', '학생', '글', '쪽', '처음'] - 이라고 (1.401)\n",
      "['최고', '의존', '부여', '언급', '진리'] - 치 (1.382)\n",
      "['상대', '해결', '제시', '분', '지적'] - 해서 (1.367)\n",
      "['부유', '중년', '지하', '특권', '지주'] - 층 (1.324)\n",
      "['모습', '길', '다음', '세계', '자기'] - 인 (1.301)\n"
     ]
    }
   ],
   "source": [
    "base = 0\n",
    "for r, coef in sorted(enumerate(classifier.coef_[0]), key=lambda x:x[1], reverse=True)[base :base + 50]:\n",
    "    print('%s - %s (%.3f)' % (get_sample_l(r), vocabs[r], coef))"
   ]
  },
  {
   "cell_type": "code",
   "execution_count": 31,
   "metadata": {
    "collapsed": false
   },
   "outputs": [
    {
     "name": "stdout",
     "output_type": "stream",
     "text": [
      "대답 - 치곤\n",
      "작품 - 치곤\n",
      "사고 - 치곤\n",
      "압구정동 - 치곤\n",
      "현장 - 치곤\n",
      "도둑 - 치곤\n",
      "곤충 - 치곤\n",
      "연세 - 치곤\n",
      "내용 - 치곤\n",
      "건망증 - 치곤\n",
      "행실 - 치곤\n",
      "발걸음 - 치곤\n",
      "대가 - 치곤\n",
      "아이 - 치곤\n",
      "장사 - 치곤\n",
      "이야기 - 치곤\n",
      "농담 - 치곤\n",
      "여자 - 치곤\n",
      "얘기 - 치곤\n"
     ]
    }
   ],
   "source": [
    "r = '치곤'.strip()\n",
    "ri = vocabs.index(r)\n",
    "for l in x[:,ri].nonzero()[0]:\n",
    "    print('%s - %s' % (x_words[l], r))"
   ]
  },
  {
   "cell_type": "code",
   "execution_count": null,
   "metadata": {
    "collapsed": true
   },
   "outputs": [],
   "source": []
  }
 ],
 "metadata": {
  "kernelspec": {
   "display_name": "Python 3",
   "language": "python",
   "name": "python3"
  },
  "language_info": {
   "codemirror_mode": {
    "name": "ipython",
    "version": 3
   },
   "file_extension": ".py",
   "mimetype": "text/x-python",
   "name": "python",
   "nbconvert_exporter": "python",
   "pygments_lexer": "ipython3",
   "version": "3.5.2"
  }
 },
 "nbformat": 4,
 "nbformat_minor": 0
}
