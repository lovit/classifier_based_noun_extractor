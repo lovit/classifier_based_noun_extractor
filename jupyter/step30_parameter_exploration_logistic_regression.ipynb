{
 "cells": [
  {
   "cell_type": "code",
   "execution_count": 9,
   "metadata": {
    "collapsed": false
   },
   "outputs": [
    {
     "name": "stdout",
     "output_type": "stream",
     "text": [
      "x shape = (15715, 4551)\n",
      "y shape = (15715,)\n",
      "# features = 4551\n",
      "# L words = 15715\n"
     ]
    }
   ],
   "source": [
    "import pickle\n",
    "with open('../models/Logistic + L2 (C=1.00) l30_r15.pkl', 'rb') as f:\n",
    "# with open('../models/Logistic + L1 (C=4.00) norml30_r15.pkl', 'rb') as f:\n",
    "# with open('../models/Logistic + L1 (C=4.0)l30_r15.pkl', 'rb') as f:\n",
    "    classifier = pickle.load(f)\n",
    "    \n",
    "from py.utils import load_data\n",
    "head = 'l30_r15'\n",
    "directory = '../data/'\n",
    "x, y, x_words, vocabs = load_data(head, directory)\n"
   ]
  },
  {
   "cell_type": "code",
   "execution_count": 2,
   "metadata": {
    "collapsed": false
   },
   "outputs": [
    {
     "data": {
      "text/plain": [
       "matrix([[100],\n",
       "        [295],\n",
       "        [104],\n",
       "        ..., \n",
       "        [ 31],\n",
       "        [ 93],\n",
       "        [199]])"
      ]
     },
     "execution_count": 2,
     "metadata": {},
     "output_type": "execute_result"
    }
   ],
   "source": [
    "word_frequency = x.sum(axis=1)\n",
    "word_frequency"
   ]
  },
  {
   "cell_type": "code",
   "execution_count": 10,
   "metadata": {
    "collapsed": true
   },
   "outputs": [],
   "source": [
    "def get_sample_l(ri, topk=5):\n",
    "    nonzero = x[:,ri].nonzero()[0]\n",
    "    base = min(50, len(nonzero)//2)\n",
    "    return [x_words[l] for l in sorted(nonzero, key=lambda x:word_frequency[x,0], reverse=True)[base:base+topk]]"
   ]
  },
  {
   "cell_type": "code",
   "execution_count": 11,
   "metadata": {
    "collapsed": false,
    "scrolled": false
   },
   "outputs": [
    {
     "name": "stdout",
     "output_type": "stream",
     "text": [
      "['변화', '글', '존재', '누구', '시'] - 를 (0.536)\n",
      "['안', '지금', '이상', '모습', '사용'] - 의 (0.525)\n",
      "['어디', '현실', '개', '변화', '글'] - 로 (0.285)\n",
      "['이름', '여성', '한국', '세상', '과정'] - 으로 (0.284)\n",
      "['발견', '현상', '대답', '인식', '평가'] - 한 (0.284)\n",
      "['사이', '지금', '이상', '모습', '길'] - 만 (0.261)\n",
      "['세상', '현실', '과정', '학생', '글'] - 과 (0.222)\n",
      "['어머니', '중', '이것', '여기', '사이'] - 에 (0.220)\n",
      "['몸', '선생', '자리', '사랑', '삶'] - 하고 (0.207)\n",
      "['안', '이상', '모습', '사용', '길'] - 에서 (0.200)\n",
      "['기록', '경험', '발생', '조사', '전화'] - 된 (0.194)\n",
      "['돈', '역사', '정부', '주장', '관계'] - 들이 (0.176)\n",
      "['평가', '계속', '공부', '확인', '의식'] - 할 (0.164)\n",
      "['다음', '세계', '자기', '방법', '나라'] - 까지 (0.162)\n",
      "['모습', '길', '다음', '세계', '자기'] - 인 (0.160)\n",
      "['국가', '소설', '지역', '자연', '교육'] - 적인 (0.150)\n",
      "['역사', '정부', '주장', '관계', '내용'] - 들은 (0.149)\n",
      "['존재', '시', '저', '자체', '학교'] - 였다 (0.149)\n",
      "['관련', '노력', '방', '발견', '와'] - 하는 (0.138)\n",
      "['자연', '운동', '교육', '영화', '개인'] - 적 (0.134)\n",
      "['내용', '책', '힘', '뿐', '뜻'] - 이나 (0.128)\n",
      "['기업', '당신', '엄마', '대상', '국가'] - 에게 (0.127)\n",
      "['역사', '데', '정부', '뭐', '내용'] - 부터 (0.117)\n",
      "['밤', '대통령', '작가', '개념', '언어'] - 만의 (0.116)\n",
      "['나라', '아버지', '몸', '선생', '자리'] - 처럼 (0.113)\n",
      "['자리', '두', '뒤', '내', '역사'] - 라고 (0.108)\n",
      "['대표', '기억', '기술', '상대', '해결'] - 하여 (0.104)\n",
      "['대표', '기술', '동시', '기능', '상대'] - 적으로 (0.096)\n",
      "['선택', '기대', '성공', '개발', '비교'] - 되어 (0.094)\n",
      "['여성', '학생', '개', '변화', '글'] - 들의 (0.094)\n",
      "['뒤', '내', '역사', '데', '정부'] - 라는 (0.085)\n",
      "['강조', '시장', '언어', '준비', '생명'] - 성 (0.083)\n",
      "['조사', '전화', '인정', '유지', '구성'] - 되는 (0.083)\n",
      "['놓', '찾', '어머니', '왔', '크'] - 나 (0.083)\n",
      "['컴퓨터', '경쟁', '조건', '사업', '형식'] - 화 (0.081)\n",
      "['죽', '사이', '안', '지금', '이상'] - 이다 (0.079)\n",
      "['선생', '사랑', '삶', '돈', '데'] - 이 (0.074)\n",
      "['기억', '기술', '기능', '상대', '해결'] - 하게 (0.073)\n",
      "['특별', '어딘', '무언', '어떤', '뜰'] - 가에 (0.072)\n",
      "['제한', '유럽', '보장', '안정', '프랑스'] - 형 (0.071)\n",
      "['여성', '세상', '현실', '과정', '학생'] - 이었다 (0.070)\n",
      "['몸', '자리', '사랑', '뒤', '삶'] - 에는 (0.065)\n",
      "['잡', '남', '뭐', '남자', '문화'] - 네 (0.065)\n",
      "['영화', '씨', '목소리', '아내', '공부'] - 예요 (0.064)\n",
      "['존재', '누구', '시', '저', '자체'] - 와 (0.064)\n",
      "['인사', '피', '게', '대사', '어린아이'] - 로군 (0.063)\n",
      "['표정', '기대', '느낌', '비판', '분석'] - 없이 (0.063)\n",
      "['계획', '기억', '기술', '기능', '상대'] - 했다 (0.063)\n",
      "['노동', '수사', '인도', '활성', '동일'] - 계 (0.062)\n",
      "['관계', '내용', '이해', '이유', '책'] - 들을 (0.062)\n"
     ]
    }
   ],
   "source": [
    "base = 0\n",
    "for r, coef in sorted(enumerate(classifier.coef_[0]), key=lambda x:x[1], reverse=True)[base :base + 50]:\n",
    "    print('%s - %s (%.3f)' % (get_sample_l(r), vocabs[r], coef))"
   ]
  },
  {
   "cell_type": "code",
   "execution_count": 31,
   "metadata": {
    "collapsed": false
   },
   "outputs": [
    {
     "name": "stdout",
     "output_type": "stream",
     "text": [
      "대답 - 치곤\n",
      "작품 - 치곤\n",
      "사고 - 치곤\n",
      "압구정동 - 치곤\n",
      "현장 - 치곤\n",
      "도둑 - 치곤\n",
      "곤충 - 치곤\n",
      "연세 - 치곤\n",
      "내용 - 치곤\n",
      "건망증 - 치곤\n",
      "행실 - 치곤\n",
      "발걸음 - 치곤\n",
      "대가 - 치곤\n",
      "아이 - 치곤\n",
      "장사 - 치곤\n",
      "이야기 - 치곤\n",
      "농담 - 치곤\n",
      "여자 - 치곤\n",
      "얘기 - 치곤\n"
     ]
    }
   ],
   "source": [
    "r = '치곤'.strip()\n",
    "ri = vocabs.index(r)\n",
    "for l in x[:,ri].nonzero()[0]:\n",
    "    print('%s - %s' % (x_words[l], r))"
   ]
  },
  {
   "cell_type": "code",
   "execution_count": null,
   "metadata": {
    "collapsed": true
   },
   "outputs": [],
   "source": []
  }
 ],
 "metadata": {
  "kernelspec": {
   "display_name": "Python 3",
   "language": "python",
   "name": "python3"
  },
  "language_info": {
   "codemirror_mode": {
    "name": "ipython",
    "version": 3
   },
   "file_extension": ".py",
   "mimetype": "text/x-python",
   "name": "python",
   "nbconvert_exporter": "python",
   "pygments_lexer": "ipython3",
   "version": "3.5.2"
  }
 },
 "nbformat": 4,
 "nbformat_minor": 0
}
