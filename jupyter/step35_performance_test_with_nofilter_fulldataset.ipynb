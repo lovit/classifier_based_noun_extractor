{
 "cells": [
  {
   "cell_type": "markdown",
   "metadata": {},
   "source": [
    "일반화 성능도 있기 때문에 전체 데이터셋에 대해서 성능 평가를 해봐야 함"
   ]
  },
  {
   "cell_type": "code",
   "execution_count": 75,
   "metadata": {
    "collapsed": false
   },
   "outputs": [
    {
     "name": "stdout",
     "output_type": "stream",
     "text": [
      "x shape = (15715, 4551)\n",
      "y shape = (15715,)\n",
      "# features = 4551\n",
      "# L words = 15715\n"
     ]
    }
   ],
   "source": [
    "import pickle\n",
    "# with open('../models/Logistic + L2 (C=0.2)l30_r15.pkl', 'rb') as f:\n",
    "with open('../models/Logistic + L1 (C=0.2)l30_r15.pkl', 'rb') as f:\n",
    "# with open('../models/Logistic + L1 (C=4.0)l30_r15.pkl', 'rb') as f:\n",
    "    classifier = pickle.load(f)\n",
    "    \n",
    "from py.utils import load_data\n",
    "head = 'l30_r15'\n",
    "directory = '../data/'\n",
    "x, y, x_words, vocabs = load_data(head, directory)\n",
    "x = x.tocsr()"
   ]
  },
  {
   "cell_type": "code",
   "execution_count": 40,
   "metadata": {
    "collapsed": false
   },
   "outputs": [
    {
     "data": {
      "text/plain": [
       "(15715, 1)"
      ]
     },
     "execution_count": 40,
     "metadata": {},
     "output_type": "execute_result"
    }
   ],
   "source": [
    "word_frequency = x.sum(axis=1)\n",
    "word_frequency"
   ]
  },
  {
   "cell_type": "code",
   "execution_count": 74,
   "metadata": {
    "collapsed": false,
    "scrolled": false
   },
   "outputs": [
    {
     "name": "stdout",
     "output_type": "stream",
     "text": [
      "['만들', '죽', '늦', '잠들'] - 었건 (2.914)\n",
      "['지나', '서', '어데'] - 선가 (2.612)\n",
      "['죽', '얻', '넣', '재미있', '거두'] - 었다고도 (2.504)\n",
      "['달', '순간', '언제'] - 부터인가 (2.230)\n",
      "['사십', '이십', '삼십'] - 여년 (1.822)\n",
      "['됩', '봅', '모릅', '보입', '압'] - 니다마는 (1.714)\n",
      "['나오', '나타나', '배우', '살아가', '끼'] - 셨나요 (1.655)\n",
      "['보이', '놓', '지', '쉬', '자'] - 지않고 (1.648)\n",
      "['아', '치', '돌아가', '들어오', '치르'] - 셨지 (1.584)\n",
      "['살', '높', '담', '닮', '쏟'] - 았으면서도 (1.542)\n",
      "['방지', '부상', '화장실', '청소년', '수집'] - 용으로 (1.512)\n",
      "['넣', '어렵', '버리', '보내', '떠나'] - 겠다구 (1.511)\n",
      "['국화', '캔', '섬유', '연료', '장미'] - 류의 (1.435)\n",
      "['끌', '빼', '가르치', '드리', '때리'] - 려면은 (1.385)\n",
      "['입', '이루', '깊', '길', '틀림없'] - 었으리라 (1.371)\n",
      "['앉', '만나', '보인', '넓', '산'] - 다란 (1.355)\n",
      "['사명', '출장', '뒷산', '우편물', '행중'] - 이래야 (1.313)\n",
      "['나', '사', '열', '어렵', '맡'] - 게된 (1.301)\n",
      "['못하', '놓', '찾', '사', '남'] - 겠다면 (1.283)\n",
      "['팔뚝', '알맹이', '좆', '바게트', '담배꽁초'] - 만하게 (1.278)\n",
      "['식물', '일차', '수명', '양측', '삽화'] - 성인 (1.269)\n",
      "['주름', '재', '허점', '자갈', '주름살'] - 투성이 (1.241)\n",
      "['하노이', '교도', '베이징', '쿠웨이트', '제네바'] - 연합 (1.238)\n",
      "['빠져', '떨어져', '가려', '달아나', '사라져'] - 버렸기 (1.225)\n",
      "['수단', '소식', '왕', '짓', '마지막'] - 이잖아 (1.199)\n",
      "['야채', '곡물', '옷감', '국수', '석유'] - 류 (1.196)\n",
      "['오전', '구매', '매춘', '면접', '급락'] - 시에 (1.188)\n",
      "['맞', '나오', '읽', '아', '적'] - 는가가 (1.175)\n",
      "['살', '찾', '맞', '남', '낳'] - 았느냐 (1.171)\n",
      "['알', '살', '말', '잡', '남'] - 아라고 (1.142)\n",
      "['놓', '잡', '막', '팔', '돌'] - 아선 (1.130)\n",
      "['명분', '통계', '영양', '지형', '문맥'] - 상으로도 (1.129)\n",
      "['약사', '성진', '애인', '일반인', '관료'] - 에게까지 (1.114)\n",
      "['떠나', '써', '나와', '넘어가', '줘'] - 야겠군 (1.108)\n",
      "['서', '울', '들어오', '버렸', '풀'] - 더군 (1.103)\n",
      "['주', '나오', '내', '여기', '아끼'] - 겠는가라는 (1.103)\n",
      "['힘들', '끊', '맛있', '굵', '틀'] - 어져요 (1.101)\n",
      "['지내', '넘어가', '줘', '치러', '피해'] - 야겠는데 (1.093)\n",
      "['국회', '강물', '학년', '바퀴', '부부싸움'] - 에조차 (1.092)\n",
      "['직업', '공사', '다수', '농부', '통로'] - 인데다가 (1.088)\n",
      "['살', '놓', '찾', '말', '맞'] - 았단다 (1.084)\n",
      "['일어나', '기다리', '자', '들어오', '드'] - 시우 (1.080)\n",
      "['못하', '왔', '힘들', '올리', '죄'] - 지유 (1.069)\n",
      "['학', '시조', '민요', '해군', '르네상스'] - 풍의 (1.060)\n",
      "['얻', '타', '만나', '치', '보내'] - 자며 (1.055)\n",
      "['맡', '안', '막', '참', '뽑'] - 아달라는 (1.036)\n",
      "['겉', '추억', '시늉', '씨앗', '관광'] - 으로나마 (1.035)\n",
      "['장사', '대가', '도둑', '농담', '발걸음'] - 치곤 (1.034)\n",
      "['치', '드', '마', '뜨', '알아보'] - 십시다 (1.023)\n",
      "['참', '밝', '빨', '쫓', '뒤쫓'] - 아오고 (1.020)\n"
     ]
    }
   ],
   "source": [
    "base = 0\n",
    "for r, coef in sorted(enumerate(classifier.coef_[0]), key=lambda x:x[1], reverse=True)[base :base + 50]:\n",
    "    print('%s - %s (%.3f)' % (get_sample_l(r), vocabs[r], coef))"
   ]
  },
  {
   "cell_type": "code",
   "execution_count": 53,
   "metadata": {
    "collapsed": true
   },
   "outputs": [],
   "source": [
    "def get_sample_l(ri, topk=5):\n",
    "    nonzero = x[:,ri].nonzero()[0]\n",
    "    base = min(50, len(nonzero)//2)\n",
    "    return [x_words[l] for l in sorted(nonzero, key=lambda x:word_frequency[x,0], reverse=True)[base:base+topk]]"
   ]
  },
  {
   "cell_type": "code",
   "execution_count": 31,
   "metadata": {
    "collapsed": false
   },
   "outputs": [
    {
     "name": "stdout",
     "output_type": "stream",
     "text": [
      "대답 - 치곤\n",
      "작품 - 치곤\n",
      "사고 - 치곤\n",
      "압구정동 - 치곤\n",
      "현장 - 치곤\n",
      "도둑 - 치곤\n",
      "곤충 - 치곤\n",
      "연세 - 치곤\n",
      "내용 - 치곤\n",
      "건망증 - 치곤\n",
      "행실 - 치곤\n",
      "발걸음 - 치곤\n",
      "대가 - 치곤\n",
      "아이 - 치곤\n",
      "장사 - 치곤\n",
      "이야기 - 치곤\n",
      "농담 - 치곤\n",
      "여자 - 치곤\n",
      "얘기 - 치곤\n"
     ]
    }
   ],
   "source": [
    "r = '치곤'.strip()\n",
    "ri = vocabs.index(r)\n",
    "for l in x[:,ri].nonzero()[0]:\n",
    "    print('%s - %s' % (x_words[l], r))"
   ]
  },
  {
   "cell_type": "code",
   "execution_count": null,
   "metadata": {
    "collapsed": true
   },
   "outputs": [],
   "source": []
  }
 ],
 "metadata": {
  "kernelspec": {
   "display_name": "Python 3",
   "language": "python",
   "name": "python3"
  },
  "language_info": {
   "codemirror_mode": {
    "name": "ipython",
    "version": 3
   },
   "file_extension": ".py",
   "mimetype": "text/x-python",
   "name": "python",
   "nbconvert_exporter": "python",
   "pygments_lexer": "ipython3",
   "version": "3.5.2"
  }
 },
 "nbformat": 4,
 "nbformat_minor": 0
}
