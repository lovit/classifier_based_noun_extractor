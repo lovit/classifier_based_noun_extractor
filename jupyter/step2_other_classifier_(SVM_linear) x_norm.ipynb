{
 "cells": [
  {
   "cell_type": "markdown",
   "metadata": {},
   "source": [
    "Support Vector Machine에서 support vector가 sparse 하게 뽑히는 건 linear kernel을 썼을 때의 부산물이다. nonlinear kernel을 쓰면 반드시 sparse support vector가 나오는 것이 아니다. RBF kernel을 썼을 때에는 point 마다 Gaussian을 씌우는 것과 다르지 않기 때문에 sparse support vector가 나오지 않는건 아닐까? \n",
    "\n",
    "linear kernel을 써서 학습을 해보니 cost에도 robust하고 support vector도 sparse하게 뽑힌다. "
   ]
  },
  {
   "cell_type": "code",
   "execution_count": 1,
   "metadata": {
    "collapsed": true
   },
   "outputs": [],
   "source": [
    "from sklearn.svm import SVC\n",
    "from sklearn.model_selection import cross_val_score\n",
    "from sklearn.preprocessing import normalize\n",
    "from py.utils import load_data\n",
    "import pickle\n",
    "\n",
    "directory = '../data/'\n",
    "heads = ['l30_r15', 'l10_r10', 'l5_r5']\n",
    "n_cv = 5"
   ]
  },
  {
   "cell_type": "code",
   "execution_count": 2,
   "metadata": {
    "collapsed": false
   },
   "outputs": [
    {
     "name": "stdout",
     "output_type": "stream",
     "text": [
      "\n",
      "\n",
      "head = l30_r15\n",
      "x shape = (15105, 2770)\n",
      "y shape = (15105,)\n",
      "# features = 2770\n",
      "# L words = 15105\n",
      "Support Vector Machine (linear, C=10.0):  > ['0.99603', '0.99636', '0.99603', '0.99603', '0.99603']\n",
      " > proportion of suppor vector = 0.019\n",
      "Support Vector Machine (linear, C=1.0):  > ['0.99570', '0.99636', '0.99735', '0.99570', '0.99603']\n",
      " > proportion of suppor vector = 0.027\n",
      "Support Vector Machine (linear, C=0.1):  > ['0.99570', '0.99636', '0.99603', '0.99570', '0.99371']\n",
      " > proportion of suppor vector = 0.057\n",
      "--------------------------------------------------------------------------------\n",
      "\n",
      "\n",
      "head = l10_r10\n",
      "x shape = (31544, 3515)\n",
      "y shape = (31544,)\n",
      "# features = 3515\n",
      "# L words = 31544\n",
      "Support Vector Machine (linear, C=10.0):  > ['0.99635', '0.99477', '0.99414', '0.99509', '0.99445']\n",
      " > proportion of suppor vector = 0.019\n",
      "Support Vector Machine (linear, C=1.0):  > ['0.99556', '0.99445', '0.99398', '0.99540', '0.99493']\n",
      " > proportion of suppor vector = 0.026\n",
      "Support Vector Machine (linear, C=0.1):  > ['0.99414', '0.99382', '0.99287', '0.99382', '0.99366']\n",
      " > proportion of suppor vector = 0.048\n",
      "--------------------------------------------------------------------------------\n",
      "\n",
      "\n",
      "head = l5_r5\n",
      "x shape = (50229, 5361)\n",
      "y shape = (50229,)\n",
      "# features = 5361\n",
      "# L words = 50229\n",
      "Support Vector Machine (linear, C=10.0):  > ['0.99403', '0.99293', '0.99403', '0.99393', '0.99383']\n",
      " > proportion of suppor vector = 0.022\n",
      "Support Vector Machine (linear, C=1.0):  > ['0.99443', '0.99313', '0.99423', '0.99423', '0.99413']\n",
      " > proportion of suppor vector = 0.027\n",
      "Support Vector Machine (linear, C=0.1):  > ['0.99303', '0.99194', '0.99303', '0.99293', '0.99233']\n",
      " > proportion of suppor vector = 0.046\n",
      "--------------------------------------------------------------------------------\n"
     ]
    }
   ],
   "source": [
    "import warnings\n",
    "warnings.filterwarnings('ignore')\n",
    "\n",
    "for head in heads:\n",
    "    print('\\n\\nhead = %s' % head)\n",
    "    x, y, x_words, vocabs = load_data(head, directory)\n",
    "    x = normalize(x)\n",
    "    \n",
    "    for cost in [10.0, 1.0, 0.1]:    \n",
    "        classifier = SVC(C=cost, kernel='linear',shrinking=True)\n",
    "        scores = cross_val_score(classifier, x, y, cv=n_cv)\n",
    "        classifier.fit(x, y)\n",
    "        print('Support Vector Machine (linear, C=%.1f): ' % cost, end='')\n",
    "        print(' > %s' % ['%.5f' % s for s in scores])\n",
    "        print(' > proportion of suppor vector = %.3f' % (classifier.n_support_.sum() / x.shape[0]))\n",
    "    \n",
    "    print('-' * 80)"
   ]
  },
  {
   "cell_type": "code",
   "execution_count": null,
   "metadata": {
    "collapsed": true
   },
   "outputs": [],
   "source": []
  }
 ],
 "metadata": {
  "kernelspec": {
   "display_name": "Python 3",
   "language": "python",
   "name": "python3"
  },
  "language_info": {
   "codemirror_mode": {
    "name": "ipython",
    "version": 3
   },
   "file_extension": ".py",
   "mimetype": "text/x-python",
   "name": "python",
   "nbconvert_exporter": "python",
   "pygments_lexer": "ipython3",
   "version": "3.5.2"
  }
 },
 "nbformat": 4,
 "nbformat_minor": 0
}
