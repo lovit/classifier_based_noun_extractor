{
 "cells": [
  {
   "cell_type": "markdown",
   "metadata": {},
   "source": [
    "일반화 성능도 있기 때문에 전체 데이터셋에 대해서 성능 평가를 해봐야 함"
   ]
  },
  {
   "cell_type": "code",
   "execution_count": 46,
   "metadata": {
    "collapsed": false
   },
   "outputs": [
    {
     "name": "stdout",
     "output_type": "stream",
     "text": [
      "x shape = (15715, 4551)\n",
      "y shape = (15715,)\n",
      "# features = 4551\n",
      "# L words = 15715\n"
     ]
    }
   ],
   "source": [
    "import pickle\n",
    "# with open('../models/SVC (C=0.1)l30_r15.pkl', 'rb') as f:\n",
    "with open('../models/SVC (C=0.1) norml30_r15.pkl', 'rb') as f:\n",
    "    classifier = pickle.load(f)\n",
    "    \n",
    "from py.utils import load_data\n",
    "head = 'l30_r15'\n",
    "directory = '../data/'\n",
    "x, y, x_words, vocabs = load_data(head, directory)\n",
    "x = x.tocsr()"
   ]
  },
  {
   "cell_type": "code",
   "execution_count": 25,
   "metadata": {
    "collapsed": false
   },
   "outputs": [
    {
     "data": {
      "text/plain": [
       "matrix([[  48,   35,   29, ..., 2195,   17,   16]], dtype=int64)"
      ]
     },
     "execution_count": 25,
     "metadata": {},
     "output_type": "execute_result"
    }
   ],
   "source": [
    "def get_sample_r(li, topk=5):\n",
    "    nonzero = x[li,:].nonzero()[1]\n",
    "    base = min(50, len(nonzero)//2)\n",
    "    return [vocabs[r] for r in sorted(nonzero, key=lambda x:word_frequency[0,x], reverse=True)[base:base+topk]]\n",
    "\n",
    "word_frequency = x.sum(axis=0)\n",
    "word_frequency"
   ]
  },
  {
   "cell_type": "code",
   "execution_count": 48,
   "metadata": {
    "collapsed": false
   },
   "outputs": [
    {
     "name": "stdout",
     "output_type": "stream",
     "text": [
      "(1, 6282)\n",
      "0.0\n"
     ]
    }
   ],
   "source": [
    "# sparse matrix type\n",
    "print(classifier.dual_coef_.shape)\n",
    "\n",
    "# sum = 0 ?? alpha sum은 1아닌가?\n",
    "print(classifier.dual_coef_.data.sum())"
   ]
  },
  {
   "cell_type": "code",
   "execution_count": 49,
   "metadata": {
    "collapsed": false
   },
   "outputs": [
    {
     "data": {
      "text/plain": [
       "(6282, 4551)"
      ]
     },
     "execution_count": 49,
     "metadata": {},
     "output_type": "execute_result"
    }
   ],
   "source": [
    "# Support vectors\n",
    "classifier.support_vectors_.shape"
   ]
  },
  {
   "cell_type": "code",
   "execution_count": 50,
   "metadata": {
    "collapsed": false
   },
   "outputs": [
    {
     "data": {
      "text/plain": [
       "array([    1,     3,     6, ..., 15708, 15710, 15712], dtype=int32)"
      ]
     },
     "execution_count": 50,
     "metadata": {},
     "output_type": "execute_result"
    }
   ],
   "source": [
    "# Vector row id\n",
    "classifier.support_"
   ]
  },
  {
   "cell_type": "code",
   "execution_count": 52,
   "metadata": {
    "collapsed": false,
    "scrolled": false
   },
   "outputs": [
    {
     "name": "stdout",
     "output_type": "stream",
     "text": [
      "끓(다) - ['도록', '었던', '기도', '었습니다', '는가'] (-0.100)\n",
      "무서(다) - ['우면서도', '우니까', '워하는', '워져', '니께'] (-0.100)\n",
      "구겨(다) - ['댔다', '져서', '졌고', '놓았다', '넣고'] (-0.100)\n",
      "두들겨(다) - ['져서', '봐야', '대고', '대며', '보면서'] (-0.100)\n",
      "짚(다) - ['어놓고', '어낸', '어야만', '였을', '음으로써'] (-0.100)\n",
      "두들기(다) - ['자', '라고', '다가', '니', '거나'] (-0.100)\n",
      "이어진(다) - ['다고', '다면', '데다'] (-0.100)\n",
      "씌우(다) - ['기도', '거나', '죠', '려고', '냐'] (-0.100)\n",
      "비해(다) - ['선', '볼', '보면', '서나'] (-0.100)\n",
      "얼(다) - ['었어요', '기에는', '었지', '었는지', '어가는'] (-0.100)\n",
      "웃겼(다) - ['나', '어요', '는지', '잖아', '듯이'] (-0.100)\n",
      "찢겨(다) - ['버린', '가고', '버리고', '져서', '나가는'] (-0.100)\n",
      "안기(다) - ['기도', '거나', '는가', '려고', '더니'] (-0.100)\n",
      "뒤엎(다) - ['듯', '기를', '듯이', '기는', '겠다는'] (-0.100)\n",
      "친해(다) - ['졌고', '지자', '졌습니다', '지기도', '진다는'] (-0.100)\n",
      "저(다) - ['는지도', '으려는', '어라', '으라고', '어주는'] (-0.100)\n",
      "부둥켜안(다) - ['는다', '다가', '구', '더니', '듯'] (-0.100)\n",
      "깔깔거리(다) - ['던', '며', '다가', '거나'] (-0.100)\n",
      "맡겨(다) - ['졌고', '왔던', '달라는', '지자', '졌습니다'] (-0.100)\n",
      "매서(다) - ['움을', '운데', '웠고', '웠어'] (-0.100)\n",
      "가져와(다) - ['요', '야지', '봐', '야겠다고', '봐라'] (-0.100)\n",
      "모(다) - ['려면', '았어', '답니다', '아준'] (-0.100)\n",
      "가리킨(다) - ['다고', '다면'] (-0.100)\n",
      "빠뜨리(다) - ['거나', '진', '려고', '질', '고도'] (-0.100)\n",
      "뒤따라(다) - ['왔다', '나갔다', '나와', '나오고', '섰다'] (-0.100)\n",
      "갖춰(다) - ['지기', '지면', '지게', '져야', '졌던'] (-0.100)\n",
      "걸어오(다) - ['다가', '도록', '지는', '지도', '더니'] (-0.100)\n",
      "퍼부(다) - ['어지는', '었지', '어졌다', '으려', '어질'] (-0.100)\n",
      "주무시(다) - ['도록', '는지', '지도', '고는', '듯'] (-0.100)\n",
      "떼(다) - ['든지', '곤', '기만', '질', '려'] (-0.100)\n",
      "붉히(다) - ['며', '면서', '다가', '거나', '면서도'] (-0.100)\n",
      "터지(다) - ['듯', '려는', '듯이', '면은', '든'] (-0.100)\n",
      "맙(다) - ['시다', '니다만'] (-0.100)\n",
      "드릴(다) - ['라구요', '께요', '려구요', '테니'] (-0.100)\n",
      "계셔(다) - ['야만', '서야', '유', '야지요', '요라고'] (-0.100)\n",
      "나아갔(다) - ['습니다', '으면', '다가', '어야', '는가'] (-0.100)\n",
      "노랗(다) - ['잖아', '기만', '구요', '게도', '답니다'] (-0.100)\n",
      "가볍(다) - ['긴', '고도', '기까지', '게도', '게는'] (-0.100)\n",
      "반가(다) - ['운지', '워도', '와서', '웠지만', '움에'] (-0.100)\n",
      "드리워(다) - ['질', '지고', '놓고', '온', '져서'] (-0.100)\n"
     ]
    }
   ],
   "source": [
    "base = 0\n",
    "topk = 40\n",
    "for idx, l in sorted(enumerate(classifier.support_), key=lambda x:abs(classifier.dual_coef_[0,x[0]]), reverse=True)[base :base + topk]:\n",
    "    print('%s%s - %s (%.3f)' % (x_words[l], '' if y[l] == 1 else '(다)', get_sample_r(l), classifier.dual_coef_[0,idx]))"
   ]
  },
  {
   "cell_type": "code",
   "execution_count": 53,
   "metadata": {
    "collapsed": false
   },
   "outputs": [
    {
     "name": "stdout",
     "output_type": "stream",
     "text": [
      "number of alphas = 2\n",
      "number of support vectors = 6282\n",
      "\n",
      "alpha= -0.100, count=3141 (0.500)\n",
      "alpha= 0.100, count=3141 (0.500)\n"
     ]
    }
   ],
   "source": [
    "from collections import Counter\n",
    "alpha_count = Counter(classifier.dual_coef_.data)\n",
    "print('number of alphas = %d' % len(alpha_count))\n",
    "print('number of support vectors = %d\\n' % len(classifier.dual_coef_.data))\n",
    "\n",
    "for alpha, count in sorted(alpha_count.items(), key=lambda x:(x[1], abs(x[0])), reverse=True)[:50]:\n",
    "    print('alpha= %.3f, count=%d (%.3f)' % (alpha, count, count/classifier.n_support_.sum()))"
   ]
  },
  {
   "cell_type": "code",
   "execution_count": 54,
   "metadata": {
    "collapsed": false
   },
   "outputs": [
    {
     "data": {
      "text/plain": [
       "array([3141, 3141], dtype=int32)"
      ]
     },
     "execution_count": 54,
     "metadata": {},
     "output_type": "execute_result"
    }
   ],
   "source": [
    "classifier.n_support_"
   ]
  },
  {
   "cell_type": "code",
   "execution_count": null,
   "metadata": {
    "collapsed": true
   },
   "outputs": [],
   "source": []
  }
 ],
 "metadata": {
  "kernelspec": {
   "display_name": "Python 3",
   "language": "python",
   "name": "python3"
  },
  "language_info": {
   "codemirror_mode": {
    "name": "ipython",
    "version": 3
   },
   "file_extension": ".py",
   "mimetype": "text/x-python",
   "name": "python",
   "nbconvert_exporter": "python",
   "pygments_lexer": "ipython3",
   "version": "3.5.2"
  }
 },
 "nbformat": 4,
 "nbformat_minor": 0
}
