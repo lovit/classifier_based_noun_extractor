{
 "cells": [
  {
   "cell_type": "code",
   "execution_count": 16,
   "metadata": {
    "collapsed": false
   },
   "outputs": [],
   "source": [
    "from sklearn.linear_model import LogisticRegression\n",
    "from sklearn.model_selection import cross_val_score\n",
    "from py.utils import load_data"
   ]
  },
  {
   "cell_type": "code",
   "execution_count": 17,
   "metadata": {
    "collapsed": true
   },
   "outputs": [],
   "source": [
    "heads = ['l30_r15', 'l10_r10', 'l5_r5']\n",
    "directory = '../data/'\n",
    "n_cv = 5\n",
    "performances = {}"
   ]
  },
  {
   "cell_type": "markdown",
   "metadata": {},
   "source": [
    "## Logistic Regression  + L2"
   ]
  },
  {
   "cell_type": "code",
   "execution_count": 19,
   "metadata": {
    "collapsed": false
   },
   "outputs": [
    {
     "name": "stdout",
     "output_type": "stream",
     "text": [
      "## dataset = l30_r15 ##\n",
      "x shape = (15715, 4551)\n",
      "y shape = (15715,)\n",
      "# features = 4551\n",
      "# L words = 15715\n",
      "\n",
      "cost= 4.00: [ 0.9971374   0.99427299  0.99522749  0.99363665  0.99681731]\n",
      "\n",
      "cost= 1.00: [ 0.9971374   0.99427299  0.99522749  0.99363665  0.99681731]\n",
      "\n",
      "cost= 0.25: [ 0.9971374   0.99427299  0.99522749  0.99363665  0.99681731]\n",
      "--------------------------------------------------------------------------------\n",
      "## dataset = l10_r10 ##\n",
      "x shape = (31664, 5857)\n",
      "y shape = (31664,)\n",
      "# features = 5857\n",
      "# L words = 31664\n",
      "\n",
      "cost= 4.00: [ 0.99131533  0.98847308  0.9897363   0.99257856  0.98878711]\n",
      "\n",
      "cost= 1.00: [ 0.99131533  0.98847308  0.9897363   0.99257856  0.98878711]\n",
      "\n",
      "cost= 0.25: [ 0.99131533  0.98847308  0.9897363   0.99257856  0.98878711]\n",
      "--------------------------------------------------------------------------------\n",
      "## dataset = l5_r5 ##\n",
      "x shape = (49547, 9307)\n",
      "y shape = (49547,)\n",
      "# features = 9307\n",
      "# L words = 49547\n",
      "\n",
      "cost= 4.00: [ 0.97729566  0.96992936  0.97093551  0.96942174  0.97628419]\n",
      "\n",
      "cost= 1.00: [ 0.97729566  0.96992936  0.97093551  0.96942174  0.97628419]\n",
      "\n",
      "cost= 0.25: [ 0.97729566  0.96992936  0.97093551  0.96942174  0.97628419]\n",
      "--------------------------------------------------------------------------------\n"
     ]
    }
   ],
   "source": [
    "for head in heads:\n",
    "    print('## dataset = %s ##' % head)\n",
    "    x, y, x_words, vocabs = load_data(head, directory)\n",
    "    for cost in [4.0, 1.0, 0.25]:\n",
    "        classifier = LogisticRegression(penalty='l2', C=1)\n",
    "        scores = cross_val_score(classifier, x, y, cv=n_cv)\n",
    "        print('\\ncost= %.2f: %s' % (cost, scores))\n",
    "\n",
    "        performances[('Logistic + L2 (C=%.2f)' % cost, head)] = scores\n",
    "        classifier.fit(x, y)\n",
    "        model_name = 'Logistic + L2 (C=%.2f)' % cost + head\n",
    "        with open('../models/%s.pkl' % model_name, 'wb') as f:\n",
    "            pickle.dump(classifier, f)\n",
    "            \n",
    "    print('-'*80)"
   ]
  },
  {
   "cell_type": "markdown",
   "metadata": {
    "collapsed": true
   },
   "source": [
    "## Logistic Regression + L1"
   ]
  },
  {
   "cell_type": "code",
   "execution_count": 11,
   "metadata": {
    "collapsed": false
   },
   "outputs": [
    {
     "name": "stdout",
     "output_type": "stream",
     "text": [
      "## dataset = l30_r15 ##\n",
      "x shape = (15715, 4551)\n",
      "y shape = (15715,)\n",
      "# features = 4551\n",
      "# L words = 15715\n",
      "\n",
      "cost=4.0: [ 0.97137405  0.95991091  0.95450207  0.96563793  0.97294717]\n",
      "\n",
      "cost=1.0: [ 0.97010178  0.94941139  0.94495705  0.94495705  0.94080204]\n",
      "\n",
      "cost=0.2: [ 0.94815522  0.96150175  0.94527521  0.95259306  0.95830681]\n",
      "--------------------------------------------------------------------------------\n",
      "## dataset = l10_r10 ##\n",
      "x shape = (31664, 5857)\n",
      "y shape = (31664,)\n",
      "# features = 5857\n",
      "# L words = 31664\n",
      "\n",
      "cost=4.0: [ 0.93620717  0.93825991  0.94126007  0.93557556  0.93272268]\n",
      "\n",
      "cost=1.0: [ 0.93352282  0.92925943  0.94204958  0.92325912  0.9311434 ]\n",
      "\n",
      "cost=0.2: [ 0.92657508  0.91504816  0.92041686  0.9171009   0.90666456]\n",
      "--------------------------------------------------------------------------------\n",
      "## dataset = l5_r5 ##\n",
      "x shape = (49547, 9307)\n",
      "y shape = (49547,)\n",
      "# features = 9307\n",
      "# L words = 49547\n",
      "\n",
      "cost=4.0: [ 0.93420787  0.91957619  0.93087093  0.9263296   0.92622868]\n",
      "\n",
      "cost=1.0: [ 0.92896065  0.91947528  0.92552225  0.92733878  0.92733878]\n",
      "\n",
      "cost=0.2: [ 0.91614531  0.91675076  0.91583409  0.9351095   0.92199011]\n",
      "--------------------------------------------------------------------------------\n"
     ]
    }
   ],
   "source": [
    "import pickle\n",
    "\n",
    "for head in heads:    \n",
    "    print('## dataset = %s ##' % head)\n",
    "    x, y, x_words, vocabs = load_data(head, directory)\n",
    "    for cost in [4, 1, 0.25]:\n",
    "        classifier = LogisticRegression(penalty='l1', C=cost, n_jobs=4)\n",
    "        scores = cross_val_score(classifier, x, y, cv=n_cv)\n",
    "        print('\\ncost=%.2f: %s' % (cost, scores))\n",
    "        \n",
    "        performances[('Logistic + L1 (C=%.1f)' % cost, head)] = scores        \n",
    "        model_name = 'Logistic + L1 (C=%.1f)' % cost + head\n",
    "        classifier.fit(x, y)\n",
    "        with open('../models/%s.pkl' % model_name, 'wb') as f:\n",
    "            pickle.dump(classifier, f)   \n",
    "        with open('performance_logistic_regression.pkl', 'wb') as f:\n",
    "            pickle.dump(performances, f)    \n",
    "        \n",
    "    print('-'*80)"
   ]
  },
  {
   "cell_type": "code",
   "execution_count": null,
   "metadata": {
    "collapsed": true
   },
   "outputs": [],
   "source": []
  }
 ],
 "metadata": {
  "kernelspec": {
   "display_name": "Python 3",
   "language": "python",
   "name": "python3"
  },
  "language_info": {
   "codemirror_mode": {
    "name": "ipython",
    "version": 3
   },
   "file_extension": ".py",
   "mimetype": "text/x-python",
   "name": "python",
   "nbconvert_exporter": "python",
   "pygments_lexer": "ipython3",
   "version": "3.5.2"
  }
 },
 "nbformat": 4,
 "nbformat_minor": 0
}
