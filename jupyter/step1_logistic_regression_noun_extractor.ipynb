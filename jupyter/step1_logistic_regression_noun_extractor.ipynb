{
 "cells": [
  {
   "cell_type": "code",
   "execution_count": 31,
   "metadata": {
    "collapsed": false
   },
   "outputs": [],
   "source": [
    "from sklearn.linear_model import LogisticRegression\n",
    "from sklearn.model_selection import cross_val_score\n",
    "from py.utils import load_data"
   ]
  },
  {
   "cell_type": "code",
   "execution_count": 32,
   "metadata": {
    "collapsed": true
   },
   "outputs": [],
   "source": [
    "heads = ['l30_r15', 'l10_r10', 'l5_r5']\n",
    "directory = '../data/'\n",
    "n_cv = 5\n",
    "performances = {}"
   ]
  },
  {
   "cell_type": "markdown",
   "metadata": {},
   "source": [
    "## Logistic Regression  + L2"
   ]
  },
  {
   "cell_type": "code",
   "execution_count": 33,
   "metadata": {
    "collapsed": false
   },
   "outputs": [
    {
     "name": "stdout",
     "output_type": "stream",
     "text": [
      "## dataset = l30_r15 ##\n",
      "x shape = (15715, 4551)\n",
      "y shape = (15715,)\n",
      "# features = 4551\n",
      "# L words = 15715\n",
      "\n",
      "cost= 4.00: [ 0.9971374   0.99427299  0.99522749  0.99363665  0.99681731]\n",
      "\n",
      "cost= 1.00: [ 0.9971374   0.99427299  0.99522749  0.99363665  0.99681731]\n",
      "\n",
      "cost= 0.25: [ 0.9971374   0.99427299  0.99522749  0.99363665  0.99681731]\n",
      "--------------------------------------------------------------------------------\n",
      "## dataset = l10_r10 ##\n",
      "x shape = (31664, 5857)\n",
      "y shape = (31664,)\n",
      "# features = 5857\n",
      "# L words = 31664\n",
      "\n",
      "cost= 4.00: [ 0.99131533  0.98847308  0.9897363   0.99257856  0.98878711]\n",
      "\n",
      "cost= 1.00: [ 0.99131533  0.98847308  0.9897363   0.99257856  0.98878711]\n",
      "\n",
      "cost= 0.25: [ 0.99131533  0.98847308  0.9897363   0.99257856  0.98878711]\n",
      "--------------------------------------------------------------------------------\n",
      "## dataset = l5_r5 ##\n",
      "x shape = (49547, 9307)\n",
      "y shape = (49547,)\n",
      "# features = 9307\n",
      "# L words = 49547\n",
      "\n",
      "cost= 4.00: [ 0.97729566  0.96992936  0.97093551  0.96942174  0.97628419]\n",
      "\n",
      "cost= 1.00: [ 0.97729566  0.96992936  0.97093551  0.96942174  0.97628419]\n",
      "\n",
      "cost= 0.25: [ 0.97729566  0.96992936  0.97093551  0.96942174  0.97628419]\n",
      "--------------------------------------------------------------------------------\n"
     ]
    }
   ],
   "source": [
    "for head in heads:\n",
    "    print('## dataset = %s ##' % head)\n",
    "    x, y, x_words, vocabs = load_data(head, directory)\n",
    "    for cost in [4.0, 1.0, 0.25]:\n",
    "        classifier = LogisticRegression(penalty='l2', C=1)\n",
    "        scores = cross_val_score(classifier, x, y, cv=n_cv)\n",
    "        print('\\ncost= %.2f: %s' % (cost, scores))\n",
    "\n",
    "        performances[('Logistic + L2 (C=%.2f)' % cost, head)] = scores\n",
    "        classifier.fit(x, y)\n",
    "        model_name = 'Logistic + L2 (C=%.2f) ' % cost + head\n",
    "        with open('../models/%s.pkl' % model_name, 'wb') as f:\n",
    "            pickle.dump(classifier, f)\n",
    "            \n",
    "    print('-'*80)"
   ]
  },
  {
   "cell_type": "markdown",
   "metadata": {
    "collapsed": true
   },
   "source": [
    "## Logistic Regression + L1"
   ]
  },
  {
   "cell_type": "code",
   "execution_count": 34,
   "metadata": {
    "collapsed": false
   },
   "outputs": [
    {
     "name": "stdout",
     "output_type": "stream",
     "text": [
      "## dataset = l30_r15 ##\n",
      "x shape = (15715, 4551)\n",
      "y shape = (15715,)\n",
      "# features = 4551\n",
      "# L words = 15715\n",
      "\n",
      "cost=4.00: [ 0.96469466  0.97327394  0.95450207  0.95704741  0.94939529]\n",
      "\n",
      "cost=1.00: [ 0.96437659  0.9688196   0.96341075  0.95704741  0.96849141]\n",
      "\n",
      "cost=0.25: [ 0.95706107  0.95641107  0.95291123  0.9678651   0.9735837 ]\n",
      "--------------------------------------------------------------------------------\n",
      "## dataset = l10_r10 ##\n",
      "x shape = (31664, 5857)\n",
      "y shape = (31664,)\n",
      "# features = 5857\n",
      "# L words = 31664\n",
      "\n",
      "cost=4.00: [ 0.94220748  0.93810201  0.93936523  0.93936523  0.93840809]\n",
      "\n",
      "cost=1.00: [ 0.9276804   0.92862782  0.93825991  0.912048    0.92530006]\n",
      "\n",
      "cost=0.25: [ 0.92389073  0.92073267  0.9272067   0.916943    0.92687934]\n",
      "--------------------------------------------------------------------------------\n",
      "## dataset = l5_r5 ##\n",
      "x shape = (49547, 9307)\n",
      "y shape = (49547,)\n",
      "# features = 9307\n",
      "# L words = 49547\n",
      "\n",
      "cost=4.00: [ 0.93188698  0.92179617  0.92602684  0.93066909  0.92804521]\n",
      "\n",
      "cost=1.00: [ 0.93057518  0.9123108   0.92552225  0.92471491  0.92501766]\n",
      "\n",
      "cost=0.25: [ 0.92310797  0.90454087  0.9175497   0.92986174  0.91199919]\n",
      "--------------------------------------------------------------------------------\n"
     ]
    }
   ],
   "source": [
    "import pickle\n",
    "\n",
    "for head in heads:    \n",
    "    print('## dataset = %s ##' % head)\n",
    "    x, y, x_words, vocabs = load_data(head, directory)\n",
    "    for cost in [4, 1, 0.25]:\n",
    "        classifier = LogisticRegression(penalty='l1', C=cost, n_jobs=4)\n",
    "        scores = cross_val_score(classifier, x, y, cv=n_cv)\n",
    "        print('\\ncost=%.2f: %s' % (cost, scores))\n",
    "        \n",
    "        performances[('Logistic + L1 (C=%.1f)' % cost, head)] = scores        \n",
    "        model_name = 'Logistic + L1 (C=%.1f) ' % cost + head\n",
    "        classifier.fit(x, y)\n",
    "        with open('../models/%s.pkl' % model_name, 'wb') as f:\n",
    "            pickle.dump(classifier, f)   \n",
    "        with open('performance_logistic_regression.pkl', 'wb') as f:\n",
    "            pickle.dump(performances, f)    \n",
    "        \n",
    "    print('-'*80)"
   ]
  },
  {
   "cell_type": "code",
   "execution_count": null,
   "metadata": {
    "collapsed": true
   },
   "outputs": [],
   "source": []
  }
 ],
 "metadata": {
  "kernelspec": {
   "display_name": "Python 3",
   "language": "python",
   "name": "python3"
  },
  "language_info": {
   "codemirror_mode": {
    "name": "ipython",
    "version": 3
   },
   "file_extension": ".py",
   "mimetype": "text/x-python",
   "name": "python",
   "nbconvert_exporter": "python",
   "pygments_lexer": "ipython3",
   "version": "3.5.2"
  }
 },
 "nbformat": 4,
 "nbformat_minor": 0
}
